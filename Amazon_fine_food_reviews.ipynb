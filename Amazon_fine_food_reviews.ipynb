{
 "cells": [
  {
   "cell_type": "markdown",
   "metadata": {
    "toc": true
   },
   "source": [
    "<h1>Table of Contents<span class=\"tocSkip\"></span></h1>\n",
    "<div class=\"toc\"><ul class=\"toc-item\"><li><span><a href=\"#Amazon-Fine-Food-Reviews-Analysis\" data-toc-modified-id=\"Amazon-Fine-Food-Reviews-Analysis-1\"><span class=\"toc-item-num\">1&nbsp;&nbsp;</span>Amazon Fine Food Reviews Analysis</a></span><ul class=\"toc-item\"><li><span><a href=\"#Loading-the-data\" data-toc-modified-id=\"Loading-the-data-1.1\"><span class=\"toc-item-num\">1.1&nbsp;&nbsp;</span>Loading the data</a></span></li><li><span><a href=\"#Exploratory-Data-Analysis*\" data-toc-modified-id=\"Exploratory-Data-Analysis*-1.2\"><span class=\"toc-item-num\">1.2&nbsp;&nbsp;</span>Exploratory Data Analysis<em>*</em></a></span><ul class=\"toc-item\"><li><span><a href=\"#Data-Cleaning:-Deduplication\" data-toc-modified-id=\"Data-Cleaning:-Deduplication-1.2.1\"><span class=\"toc-item-num\">1.2.1&nbsp;&nbsp;</span>Data Cleaning: Deduplication</a></span></li><li><span><a href=\"#Text-Preprocessing:-Stemming,-stop-word-removal-and-Lemmatization.\" data-toc-modified-id=\"Text-Preprocessing:-Stemming,-stop-word-removal-and-Lemmatization.-1.2.2\"><span class=\"toc-item-num\">1.2.2&nbsp;&nbsp;</span>Text Preprocessing: Stemming, stop-word removal and Lemmatization.</a></span></li><li><span><a href=\"#Visualizing-Data\" data-toc-modified-id=\"Visualizing-Data-1.2.3\"><span class=\"toc-item-num\">1.2.3&nbsp;&nbsp;</span>Visualizing Data</a></span></li></ul></li></ul></li><li><span><a href=\"#Machine-Learning-models\" data-toc-modified-id=\"Machine-Learning-models-2\"><span class=\"toc-item-num\">2&nbsp;&nbsp;</span>Machine Learning models</a></span><ul class=\"toc-item\"><li><span><a href=\"#Sampling-Data\" data-toc-modified-id=\"Sampling-Data-2.1\"><span class=\"toc-item-num\">2.1&nbsp;&nbsp;</span>Sampling Data</a></span></li><li><span><a href=\"#Train,-CV-,Test-Split\" data-toc-modified-id=\"Train,-CV-,Test-Split-2.2\"><span class=\"toc-item-num\">2.2&nbsp;&nbsp;</span>Train, CV ,Test Split</a></span></li><li><span><a href=\"#Prepare-Data-for-Machine-Learning-Model\" data-toc-modified-id=\"Prepare-Data-for-Machine-Learning-Model-2.3\"><span class=\"toc-item-num\">2.3&nbsp;&nbsp;</span>Prepare Data for Machine Learning Model</a></span><ul class=\"toc-item\"><li><span><a href=\"#Prepare-y-labels\" data-toc-modified-id=\"Prepare-y-labels-2.3.1\"><span class=\"toc-item-num\">2.3.1&nbsp;&nbsp;</span>Prepare y labels</a></span></li><li><span><a href=\"#Covert-text-to-vectors-using-BoW\" data-toc-modified-id=\"Covert-text-to-vectors-using-BoW-2.3.2\"><span class=\"toc-item-num\">2.3.2&nbsp;&nbsp;</span>Covert text to vectors using BoW</a></span></li><li><span><a href=\"#Convert-text-to-vectors-using-TF-IDF\" data-toc-modified-id=\"Convert-text-to-vectors-using-TF-IDF-2.3.3\"><span class=\"toc-item-num\">2.3.3&nbsp;&nbsp;</span>Convert text to vectors using TF-IDF</a></span></li></ul></li><li><span><a href=\"#Naive-Bayes-model\" data-toc-modified-id=\"Naive-Bayes-model-2.4\"><span class=\"toc-item-num\">2.4&nbsp;&nbsp;</span>Naive Bayes model</a></span><ul class=\"toc-item\"><li><span><a href=\"#Naive-Bayes-for-Bag-Of-Words\" data-toc-modified-id=\"Naive-Bayes-for-Bag-Of-Words-2.4.1\"><span class=\"toc-item-num\">2.4.1&nbsp;&nbsp;</span>Naive Bayes for Bag Of Words</a></span></li><li><span><a href=\"#Naive-Bayes-for-tfidf\" data-toc-modified-id=\"Naive-Bayes-for-tfidf-2.4.2\"><span class=\"toc-item-num\">2.4.2&nbsp;&nbsp;</span>Naive Bayes for tfidf</a></span></li></ul></li><li><span><a href=\"#Logistic-Regression\" data-toc-modified-id=\"Logistic-Regression-2.5\"><span class=\"toc-item-num\">2.5&nbsp;&nbsp;</span>Logistic Regression</a></span><ul class=\"toc-item\"><li><span><a href=\"#Logistic-regression-for-Bag-Of-Words\" data-toc-modified-id=\"Logistic-regression-for-Bag-Of-Words-2.5.1\"><span class=\"toc-item-num\">2.5.1&nbsp;&nbsp;</span>Logistic regression for Bag Of Words</a></span></li><li><span><a href=\"#Logistic-regression-for-Tfidf\" data-toc-modified-id=\"Logistic-regression-for-Tfidf-2.5.2\"><span class=\"toc-item-num\">2.5.2&nbsp;&nbsp;</span>Logistic regression for Tfidf</a></span></li></ul></li></ul></li><li><span><a href=\"#Conclusion\" data-toc-modified-id=\"Conclusion-3\"><span class=\"toc-item-num\">3&nbsp;&nbsp;</span>Conclusion</a></span></li></ul></div>"
   ]
  },
  {
   "cell_type": "markdown",
   "metadata": {
    "colab_type": "text",
    "id": "zSQgEfabYCLS"
   },
   "source": [
    "#  Amazon Fine Food Reviews Analysis\n",
    "\n",
    "\n",
    "Data Source: https://www.kaggle.com/snap/amazon-fine-food-reviews\n",
    "\n",
    "The Amazon Fine Food Reviews dataset consists of reviews of fine foods from Amazon.<br>\n",
    "\n",
    "Number of reviews: 568,454<br>\n",
    "Number of users: 256,059<br>\n",
    "Number of products: 74,258<br>\n",
    "Timespan: Oct 1999 - Oct 2012<br>\n",
    "Number of Attributes/Columns in data: 10 \n",
    "\n",
    "Attribute Information:\n",
    "\n",
    "1. Id\n",
    "2. ProductId - unique identifier for the product\n",
    "3. UserId - unqiue identifier for the user\n",
    "4. ProfileName\n",
    "5. HelpfulnessNumerator - number of users who found the review helpful\n",
    "6. HelpfulnessDenominator - number of users who indicated whether they found the review helpful or not\n",
    "1. Score - rating between 1 and 5\n",
    "8. Time - timestamp for the review\n",
    "9. Summary - brief summary of the review\n",
    "10. Text - text of the review\n",
    "\n",
    "\n",
    "<b>Objective<b>:\n",
    "Given a review, determine whether the review is positive (Rating of 4 or 5) or negative (rating of 1 or 2).\n",
    "\n",
    "<br> \n",
    " We could use the Score/Rating. A rating of 4 or 5 could be cosnidered a positive review. A review of 1 or 2 could be considered negative. A review of 3 is nuetral and ignored. This is an approximate and proxy way of determining the polarity (positivity/negativity) of a review.\n",
    "\n",
    "\n"
   ]
  },
  {
   "cell_type": "markdown",
   "metadata": {
    "colab_type": "text",
    "id": "hs6Yms5iYhHt"
   },
   "source": [
    "##  Loading the data\n",
    "\n",
    "The dataset is available in two forms\n",
    "1. .csv file\n",
    "2. SQLite Database\n",
    "\n",
    "In order to load the data, We have used the SQLITE dataset as it easier to query the data and visualise the data efficiently.\n",
    "<br> \n",
    "\n",
    "Here as we only want to get the global sentiment of the recommendations (positive or negative), we will purposefully ignore all Scores equal to 3. If the score id above 3, then the recommendation wil be set to \"positive\". Otherwise, it will be set to \"negative\"."
   ]
  },
  {
   "cell_type": "code",
   "execution_count": 0,
   "metadata": {
    "colab": {
     "autoexec": {
      "startup": false,
      "wait_interval": 0
     }
    },
    "colab_type": "code",
    "id": "p-72WLxfSS75"
   },
   "outputs": [],
   "source": [
    "#import libraries and files required for Google drive.\n",
    "#import/install required libraries for importing file from google drive\n",
    "!pip install -U -q PyDrive\n",
    "from pydrive.auth import GoogleAuth\n",
    "from pydrive.drive import GoogleDrive\n",
    "from google.colab import auth\n",
    "from oauth2client.client import GoogleCredentials\n",
    "\n",
    "# 1. Authenticate and create the PyDrive client.\n",
    "auth.authenticate_user()\n",
    "gauth = GoogleAuth()\n",
    "gauth.credentials = GoogleCredentials.get_application_default()\n",
    "drive = GoogleDrive(gauth)\n",
    "\n",
    "#2. Get the file\n",
    "downloaded = drive.CreateFile({'id':'15lp-haYpKPVG8laklH_POZmSgNEKibRF'}) # replace the id with id of file you want to access\n",
    "downloaded.GetContentFile('database.sqlite')  \n"
   ]
  },
  {
   "cell_type": "code",
   "execution_count": 221,
   "metadata": {
    "colab": {
     "autoexec": {
      "startup": false,
      "wait_interval": 0
     },
     "base_uri": "https://localhost:8080/",
     "height": 241
    },
    "colab_type": "code",
    "executionInfo": {
     "elapsed": 2952,
     "status": "ok",
     "timestamp": 1531557662728,
     "user": {
      "displayName": "Vishnu vardhan",
      "photoUrl": "//lh3.googleusercontent.com/-aWCh36gokTE/AAAAAAAAAAI/AAAAAAAAEho/sz27AYB6wCw/s50-c-k-no/photo.jpg",
      "userId": "115344496305613697268"
     },
     "user_tz": -330
    },
    "id": "N55zYpOW1-g8",
    "outputId": "a66a9178-3baf-4a53-9f28-bc69c65f0dd1"
   },
   "outputs": [
    {
     "name": "stdout",
     "output_type": "stream",
     "text": [
      "[nltk_data] Downloading package stopwords to /content/nltk_data...\n",
      "[nltk_data]   Package stopwords is already up-to-date!\n",
      "Requirement already satisfied: WordCloud in /usr/local/lib/python3.6/dist-packages (1.4.1)\n",
      "Requirement already satisfied: numpy>=1.6.1 in /usr/local/lib/python3.6/dist-packages (from WordCloud) (1.14.5)\n",
      "Requirement already satisfied: pillow in /usr/local/lib/python3.6/dist-packages (from WordCloud) (4.0.0)\n",
      "Requirement already satisfied: matplotlib in /usr/local/lib/python3.6/dist-packages (from WordCloud) (2.1.2)\n",
      "Requirement already satisfied: olefile in /usr/local/lib/python3.6/dist-packages (from pillow->WordCloud) (0.45.1)\n",
      "Requirement already satisfied: six>=1.10 in /usr/local/lib/python3.6/dist-packages (from matplotlib->WordCloud) (1.11.0)\n",
      "Requirement already satisfied: python-dateutil>=2.1 in /usr/local/lib/python3.6/dist-packages (from matplotlib->WordCloud) (2.5.3)\n",
      "Requirement already satisfied: pyparsing!=2.0.4,!=2.1.2,!=2.1.6,>=2.0.1 in /usr/local/lib/python3.6/dist-packages (from matplotlib->WordCloud) (2.2.0)\n",
      "Requirement already satisfied: cycler>=0.10 in /usr/local/lib/python3.6/dist-packages (from matplotlib->WordCloud) (0.10.0)\n",
      "Requirement already satisfied: pytz in /usr/local/lib/python3.6/dist-packages (from matplotlib->WordCloud) (2018.5)\n"
     ]
    }
   ],
   "source": [
    "#install some required packages\n",
    "import nltk\n",
    "nltk.download('stopwords')\n",
    "!pip install WordCloud"
   ]
  },
  {
   "cell_type": "code",
   "execution_count": 0,
   "metadata": {
    "colab": {
     "autoexec": {
      "startup": false,
      "wait_interval": 0
     }
    },
    "colab_type": "code",
    "id": "L81Q5GLgVVMF"
   },
   "outputs": [],
   "source": [
    "import sqlite3\n",
    "import pandas as pd\n",
    "import numpy as np\n",
    "import nltk\n",
    "import string\n",
    "import matplotlib.pyplot as plt\n",
    "import seaborn as sns\n",
    "from sklearn.feature_extraction.text import TfidfTransformer\n",
    "from sklearn.feature_extraction.text import TfidfVectorizer\n",
    "from sklearn.preprocessing import normalize\n",
    "from sklearn.naive_bayes import MultinomialNB\n",
    "from sklearn.linear_model import LogisticRegression\n",
    "from sklearn.feature_extraction.text import CountVectorizer\n",
    "from nltk.stem.porter import PorterStemmer\n",
    "from sklearn.metrics import confusion_matrix\n",
    "from sklearn.metrics import accuracy_score\n",
    "from sklearn.linear_model import LogisticRegression\n",
    "\n",
    "\n",
    "#3. Read sqlite as panda dataframe with sql query\n",
    "con = sqlite3.connect(\"database.sqlite\")\n",
    "#filtering only positive and negative reviews i.e. \n",
    "# not taking into consideration those reviews with Score=3\n",
    "\n",
    "filter_data = pd.read_sql_query('SELECT * FROM REVIEWS WHERE Score != 3',con)\n",
    "\n",
    "# Give reviews with Score>3 a positive rating, and reviews with a score<3 a negative rating.\n",
    "def partition(x):\n",
    "    if x < 3:\n",
    "        return 'negative'\n",
    "    return 'positive'\n",
    "\n",
    "#changing reviews with score less than 3 to be positive and vice-versa\n",
    "actualScore = filter_data['Score']\n",
    "positiveNegative = actualScore.map(partition) \n",
    "filter_data['Score'] = positiveNegative\n"
   ]
  },
  {
   "cell_type": "code",
   "execution_count": 224,
   "metadata": {
    "colab": {
     "autoexec": {
      "startup": false,
      "wait_interval": 0
     },
     "base_uri": "https://localhost:8080/",
     "height": 434
    },
    "colab_type": "code",
    "executionInfo": {
     "elapsed": 998,
     "status": "ok",
     "timestamp": 1531557680326,
     "user": {
      "displayName": "Vishnu vardhan",
      "photoUrl": "//lh3.googleusercontent.com/-aWCh36gokTE/AAAAAAAAAAI/AAAAAAAAEho/sz27AYB6wCw/s50-c-k-no/photo.jpg",
      "userId": "115344496305613697268"
     },
     "user_tz": -330
    },
    "id": "veiXC51zXCdr",
    "outputId": "bef05b8a-65a0-4283-a676-3b1a4cb01d73"
   },
   "outputs": [
    {
     "name": "stdout",
     "output_type": "stream",
     "text": [
      "(525814, 10)\n"
     ]
    },
    {
     "data": {
      "text/html": [
       "<div>\n",
       "<style scoped>\n",
       "    .dataframe tbody tr th:only-of-type {\n",
       "        vertical-align: middle;\n",
       "    }\n",
       "\n",
       "    .dataframe tbody tr th {\n",
       "        vertical-align: top;\n",
       "    }\n",
       "\n",
       "    .dataframe thead th {\n",
       "        text-align: right;\n",
       "    }\n",
       "</style>\n",
       "<table border=\"1\" class=\"dataframe\">\n",
       "  <thead>\n",
       "    <tr style=\"text-align: right;\">\n",
       "      <th></th>\n",
       "      <th>Id</th>\n",
       "      <th>ProductId</th>\n",
       "      <th>UserId</th>\n",
       "      <th>ProfileName</th>\n",
       "      <th>HelpfulnessNumerator</th>\n",
       "      <th>HelpfulnessDenominator</th>\n",
       "      <th>Score</th>\n",
       "      <th>Time</th>\n",
       "      <th>Summary</th>\n",
       "      <th>Text</th>\n",
       "    </tr>\n",
       "  </thead>\n",
       "  <tbody>\n",
       "    <tr>\n",
       "      <th>0</th>\n",
       "      <td>1</td>\n",
       "      <td>B001E4KFG0</td>\n",
       "      <td>A3SGXH7AUHU8GW</td>\n",
       "      <td>delmartian</td>\n",
       "      <td>1</td>\n",
       "      <td>1</td>\n",
       "      <td>positive</td>\n",
       "      <td>1303862400</td>\n",
       "      <td>Good Quality Dog Food</td>\n",
       "      <td>I have bought several of the Vitality canned d...</td>\n",
       "    </tr>\n",
       "    <tr>\n",
       "      <th>1</th>\n",
       "      <td>2</td>\n",
       "      <td>B00813GRG4</td>\n",
       "      <td>A1D87F6ZCVE5NK</td>\n",
       "      <td>dll pa</td>\n",
       "      <td>0</td>\n",
       "      <td>0</td>\n",
       "      <td>negative</td>\n",
       "      <td>1346976000</td>\n",
       "      <td>Not as Advertised</td>\n",
       "      <td>Product arrived labeled as Jumbo Salted Peanut...</td>\n",
       "    </tr>\n",
       "    <tr>\n",
       "      <th>2</th>\n",
       "      <td>3</td>\n",
       "      <td>B000LQOCH0</td>\n",
       "      <td>ABXLMWJIXXAIN</td>\n",
       "      <td>Natalia Corres \"Natalia Corres\"</td>\n",
       "      <td>1</td>\n",
       "      <td>1</td>\n",
       "      <td>positive</td>\n",
       "      <td>1219017600</td>\n",
       "      <td>\"Delight\" says it all</td>\n",
       "      <td>This is a confection that has been around a fe...</td>\n",
       "    </tr>\n",
       "  </tbody>\n",
       "</table>\n",
       "</div>"
      ],
      "text/plain": [
       "   Id   ProductId          UserId                      ProfileName  \\\n",
       "0   1  B001E4KFG0  A3SGXH7AUHU8GW                       delmartian   \n",
       "1   2  B00813GRG4  A1D87F6ZCVE5NK                           dll pa   \n",
       "2   3  B000LQOCH0   ABXLMWJIXXAIN  Natalia Corres \"Natalia Corres\"   \n",
       "\n",
       "   HelpfulnessNumerator  HelpfulnessDenominator     Score        Time  \\\n",
       "0                     1                       1  positive  1303862400   \n",
       "1                     0                       0  negative  1346976000   \n",
       "2                     1                       1  positive  1219017600   \n",
       "\n",
       "                 Summary                                               Text  \n",
       "0  Good Quality Dog Food  I have bought several of the Vitality canned d...  \n",
       "1      Not as Advertised  Product arrived labeled as Jumbo Salted Peanut...  \n",
       "2  \"Delight\" says it all  This is a confection that has been around a fe...  "
      ]
     },
     "execution_count": 224,
     "metadata": {
      "tags": []
     },
     "output_type": "execute_result"
    }
   ],
   "source": [
    "print(filter_data.shape)\n",
    "filter_data.head(3)"
   ]
  },
  {
   "cell_type": "markdown",
   "metadata": {
    "colab_type": "text",
    "id": "G_tOR3yxksDj"
   },
   "source": [
    "##  Exploratory Data Analysis***"
   ]
  },
  {
   "cell_type": "markdown",
   "metadata": {
    "colab_type": "text",
    "id": "69x5TLUgZciv"
   },
   "source": [
    "\n",
    "###  Data Cleaning: Deduplication\n",
    "\n",
    "It is observed (as shown in the table below) that the reviews data had many duplicate entries. Hence it was necessary to remove duplicates in order to get unbiased results for the analysis of the data.  Following is an example:"
   ]
  },
  {
   "cell_type": "code",
   "execution_count": 225,
   "metadata": {
    "colab": {
     "autoexec": {
      "startup": false,
      "wait_interval": 0
     },
     "base_uri": "https://localhost:8080/",
     "height": 417
    },
    "colab_type": "code",
    "executionInfo": {
     "elapsed": 1702,
     "status": "ok",
     "timestamp": 1531557682189,
     "user": {
      "displayName": "Vishnu vardhan",
      "photoUrl": "//lh3.googleusercontent.com/-aWCh36gokTE/AAAAAAAAAAI/AAAAAAAAEho/sz27AYB6wCw/s50-c-k-no/photo.jpg",
      "userId": "115344496305613697268"
     },
     "user_tz": -330
    },
    "id": "YKIBisp1XG61",
    "outputId": "5a0cafee-794f-4668-a35c-3ae90c8ef862"
   },
   "outputs": [
    {
     "data": {
      "text/html": [
       "<div>\n",
       "<style scoped>\n",
       "    .dataframe tbody tr th:only-of-type {\n",
       "        vertical-align: middle;\n",
       "    }\n",
       "\n",
       "    .dataframe tbody tr th {\n",
       "        vertical-align: top;\n",
       "    }\n",
       "\n",
       "    .dataframe thead th {\n",
       "        text-align: right;\n",
       "    }\n",
       "</style>\n",
       "<table border=\"1\" class=\"dataframe\">\n",
       "  <thead>\n",
       "    <tr style=\"text-align: right;\">\n",
       "      <th></th>\n",
       "      <th>Id</th>\n",
       "      <th>ProductId</th>\n",
       "      <th>UserId</th>\n",
       "      <th>ProfileName</th>\n",
       "      <th>HelpfulnessNumerator</th>\n",
       "      <th>HelpfulnessDenominator</th>\n",
       "      <th>Score</th>\n",
       "      <th>Time</th>\n",
       "      <th>Summary</th>\n",
       "      <th>Text</th>\n",
       "    </tr>\n",
       "  </thead>\n",
       "  <tbody>\n",
       "    <tr>\n",
       "      <th>0</th>\n",
       "      <td>4</td>\n",
       "      <td>B000UA0QIQ</td>\n",
       "      <td>A395BORC6FGVXV</td>\n",
       "      <td>Karl</td>\n",
       "      <td>3</td>\n",
       "      <td>3</td>\n",
       "      <td>2</td>\n",
       "      <td>1307923200</td>\n",
       "      <td>Cough Medicine</td>\n",
       "      <td>If you are looking for the secret ingredient i...</td>\n",
       "    </tr>\n",
       "    <tr>\n",
       "      <th>1</th>\n",
       "      <td>136304</td>\n",
       "      <td>B002Y7526Y</td>\n",
       "      <td>A395BORC6FGVXV</td>\n",
       "      <td>Karl</td>\n",
       "      <td>3</td>\n",
       "      <td>3</td>\n",
       "      <td>2</td>\n",
       "      <td>1307923200</td>\n",
       "      <td>Cough Medicine</td>\n",
       "      <td>If you are looking for the secret ingredient i...</td>\n",
       "    </tr>\n",
       "    <tr>\n",
       "      <th>2</th>\n",
       "      <td>544173</td>\n",
       "      <td>B000U9WZ54</td>\n",
       "      <td>A395BORC6FGVXV</td>\n",
       "      <td>Karl</td>\n",
       "      <td>3</td>\n",
       "      <td>3</td>\n",
       "      <td>2</td>\n",
       "      <td>1307923200</td>\n",
       "      <td>Cough Medicine</td>\n",
       "      <td>If you are looking for the secret ingredient i...</td>\n",
       "    </tr>\n",
       "  </tbody>\n",
       "</table>\n",
       "</div>"
      ],
      "text/plain": [
       "       Id   ProductId          UserId ProfileName  HelpfulnessNumerator  \\\n",
       "0       4  B000UA0QIQ  A395BORC6FGVXV        Karl                     3   \n",
       "1  136304  B002Y7526Y  A395BORC6FGVXV        Karl                     3   \n",
       "2  544173  B000U9WZ54  A395BORC6FGVXV        Karl                     3   \n",
       "\n",
       "   HelpfulnessDenominator  Score        Time         Summary  \\\n",
       "0                       3      2  1307923200  Cough Medicine   \n",
       "1                       3      2  1307923200  Cough Medicine   \n",
       "2                       3      2  1307923200  Cough Medicine   \n",
       "\n",
       "                                                Text  \n",
       "0  If you are looking for the secret ingredient i...  \n",
       "1  If you are looking for the secret ingredient i...  \n",
       "2  If you are looking for the secret ingredient i...  "
      ]
     },
     "execution_count": 225,
     "metadata": {
      "tags": []
     },
     "output_type": "execute_result"
    }
   ],
   "source": [
    "display = pd.read_sql_query('''\n",
    "SELECT *\n",
    "FROM Reviews\n",
    "WHERE UserId = \"A395BORC6FGVXV\"''',con)\n",
    "display"
   ]
  },
  {
   "cell_type": "markdown",
   "metadata": {
    "colab_type": "text",
    "id": "ICb_kkK_ZzZq"
   },
   "source": [
    "As can be seen above the same user has multiple reviews of the with the same values for HelpfulnessNumerator, HelpfulnessDenominator, Score, Time, Summary and Text and on doing analysis it was found that \n",
    "\n",
    "ProductId=B000UA0QIQ was Faeries Finest Flavor Extract, Cherry, 2.04 Ounce\n",
    "\n",
    "ProductId=B002Y7526Y was Faeries Finest Flavor Extract, Cherry, 16.36 Ounce and so on\n",
    "\n",
    "It was inferred after analysis that reviews with same parameters other than ProductId belonged to the same product just having different flavour or quantity. Hence in order to reduce redundancy it was decided to eliminate the rows having same parameters.\n",
    "\n",
    "The method used for the same was that we first sort the data according to ProductId and then just keep the first similar product review and delelte the others. for eg. in the above just the review for ProductId=B000HDL1RQ remains. This method ensures that there is only one representative for each product and deduplication without sorting would lead to possibility of different representatives still existing for the same product."
   ]
  },
  {
   "cell_type": "code",
   "execution_count": 0,
   "metadata": {
    "colab": {
     "autoexec": {
      "startup": false,
      "wait_interval": 0
     }
    },
    "colab_type": "code",
    "id": "L0ptVk5MZ1Jc"
   },
   "outputs": [],
   "source": [
    "sorted_data = filter_data.sort_values('ProductId',axis = 0,ascending = True, inplace=False, kind = 'quicksort',na_position = 'last')"
   ]
  },
  {
   "cell_type": "code",
   "execution_count": 227,
   "metadata": {
    "colab": {
     "autoexec": {
      "startup": false,
      "wait_interval": 0
     },
     "base_uri": "https://localhost:8080/",
     "height": 34
    },
    "colab_type": "code",
    "executionInfo": {
     "elapsed": 2025,
     "status": "ok",
     "timestamp": 1531557686924,
     "user": {
      "displayName": "Vishnu vardhan",
      "photoUrl": "//lh3.googleusercontent.com/-aWCh36gokTE/AAAAAAAAAAI/AAAAAAAAEho/sz27AYB6wCw/s50-c-k-no/photo.jpg",
      "userId": "115344496305613697268"
     },
     "user_tz": -330
    },
    "id": "-UTDdzmLaNxU",
    "outputId": "300b9342-32fc-496a-be59-40f1ecfd4c18"
   },
   "outputs": [
    {
     "data": {
      "text/plain": [
       "(364173, 10)"
      ]
     },
     "execution_count": 227,
     "metadata": {
      "tags": []
     },
     "output_type": "execute_result"
    }
   ],
   "source": [
    "#Deduplication of entries\n",
    "final=sorted_data.drop_duplicates(subset={\"UserId\",\"ProfileName\",\"Time\",\"Text\"}, keep='first', inplace=False)\n",
    "final.shape\n"
   ]
  },
  {
   "cell_type": "code",
   "execution_count": 228,
   "metadata": {
    "colab": {
     "autoexec": {
      "startup": false,
      "wait_interval": 0
     },
     "base_uri": "https://localhost:8080/",
     "height": 34
    },
    "colab_type": "code",
    "executionInfo": {
     "elapsed": 897,
     "status": "ok",
     "timestamp": 1531557687987,
     "user": {
      "displayName": "Vishnu vardhan",
      "photoUrl": "//lh3.googleusercontent.com/-aWCh36gokTE/AAAAAAAAAAI/AAAAAAAAEho/sz27AYB6wCw/s50-c-k-no/photo.jpg",
      "userId": "115344496305613697268"
     },
     "user_tz": -330
    },
    "id": "7c4ICKJpaRtb",
    "outputId": "079ce1d2-1313-41fc-98f1-ca8bdd7a3401"
   },
   "outputs": [
    {
     "data": {
      "text/plain": [
       "69.25890143662969"
      ]
     },
     "execution_count": 228,
     "metadata": {
      "tags": []
     },
     "output_type": "execute_result"
    }
   ],
   "source": [
    "(final['Id'].size*1.0)/(filter_data['Id'].size*1.0)*100"
   ]
  },
  {
   "cell_type": "markdown",
   "metadata": {
    "colab_type": "text",
    "id": "--SKWzPgaaJW"
   },
   "source": [
    "<b>Observation:-</b> \n",
    "1. After removing\n",
    "duplicates we are now left over with 70% of data.\n",
    "2. It was also seen that in two rows given below the value of HelpfulnessNumerator is greater than HelpfulnessDenominator which is not practically possible hence these two rows too are removed from calcualtions"
   ]
  },
  {
   "cell_type": "code",
   "execution_count": 229,
   "metadata": {
    "colab": {
     "autoexec": {
      "startup": false,
      "wait_interval": 0
     },
     "base_uri": "https://localhost:8080/",
     "height": 318
    },
    "colab_type": "code",
    "executionInfo": {
     "elapsed": 1805,
     "status": "ok",
     "timestamp": 1531557689956,
     "user": {
      "displayName": "Vishnu vardhan",
      "photoUrl": "//lh3.googleusercontent.com/-aWCh36gokTE/AAAAAAAAAAI/AAAAAAAAEho/sz27AYB6wCw/s50-c-k-no/photo.jpg",
      "userId": "115344496305613697268"
     },
     "user_tz": -330
    },
    "id": "tiKr9JvQaZIa",
    "outputId": "cf1e4ea4-7558-4e99-c081-d81566ebb6b0"
   },
   "outputs": [
    {
     "data": {
      "text/html": [
       "<div>\n",
       "<style scoped>\n",
       "    .dataframe tbody tr th:only-of-type {\n",
       "        vertical-align: middle;\n",
       "    }\n",
       "\n",
       "    .dataframe tbody tr th {\n",
       "        vertical-align: top;\n",
       "    }\n",
       "\n",
       "    .dataframe thead th {\n",
       "        text-align: right;\n",
       "    }\n",
       "</style>\n",
       "<table border=\"1\" class=\"dataframe\">\n",
       "  <thead>\n",
       "    <tr style=\"text-align: right;\">\n",
       "      <th></th>\n",
       "      <th>Id</th>\n",
       "      <th>ProductId</th>\n",
       "      <th>UserId</th>\n",
       "      <th>ProfileName</th>\n",
       "      <th>HelpfulnessNumerator</th>\n",
       "      <th>HelpfulnessDenominator</th>\n",
       "      <th>Score</th>\n",
       "      <th>Time</th>\n",
       "      <th>Summary</th>\n",
       "      <th>Text</th>\n",
       "    </tr>\n",
       "  </thead>\n",
       "  <tbody>\n",
       "    <tr>\n",
       "      <th>0</th>\n",
       "      <td>44737</td>\n",
       "      <td>B001EQ55RW</td>\n",
       "      <td>A2V0I904FH7ABY</td>\n",
       "      <td>Ram</td>\n",
       "      <td>3</td>\n",
       "      <td>2</td>\n",
       "      <td>4</td>\n",
       "      <td>1212883200</td>\n",
       "      <td>Pure cocoa taste with crunchy almonds inside</td>\n",
       "      <td>It was almost a 'love at first bite' - the per...</td>\n",
       "    </tr>\n",
       "    <tr>\n",
       "      <th>1</th>\n",
       "      <td>64422</td>\n",
       "      <td>B000MIDROQ</td>\n",
       "      <td>A161DK06JJMCYF</td>\n",
       "      <td>J. E. Stephens \"Jeanne\"</td>\n",
       "      <td>3</td>\n",
       "      <td>1</td>\n",
       "      <td>5</td>\n",
       "      <td>1224892800</td>\n",
       "      <td>Bought This for My Son at College</td>\n",
       "      <td>My son loves spaghetti so I didn't hesitate or...</td>\n",
       "    </tr>\n",
       "  </tbody>\n",
       "</table>\n",
       "</div>"
      ],
      "text/plain": [
       "      Id   ProductId          UserId              ProfileName  \\\n",
       "0  44737  B001EQ55RW  A2V0I904FH7ABY                      Ram   \n",
       "1  64422  B000MIDROQ  A161DK06JJMCYF  J. E. Stephens \"Jeanne\"   \n",
       "\n",
       "   HelpfulnessNumerator  HelpfulnessDenominator  Score        Time  \\\n",
       "0                     3                       2      4  1212883200   \n",
       "1                     3                       1      5  1224892800   \n",
       "\n",
       "                                        Summary  \\\n",
       "0  Pure cocoa taste with crunchy almonds inside   \n",
       "1             Bought This for My Son at College   \n",
       "\n",
       "                                                Text  \n",
       "0  It was almost a 'love at first bite' - the per...  \n",
       "1  My son loves spaghetti so I didn't hesitate or...  "
      ]
     },
     "execution_count": 229,
     "metadata": {
      "tags": []
     },
     "output_type": "execute_result"
    }
   ],
   "source": [
    "#data with HelpfulnessNumerator > HelpfulnessDenominator\n",
    "\n",
    "display = pd.read_sql_query('''\n",
    "SELECT *\n",
    "FROM Reviews\n",
    "WHERE HelpfulnessNumerator > HelpfulnessDenominator and score !=3''',con)\n",
    "display.head()"
   ]
  },
  {
   "cell_type": "markdown",
   "metadata": {
    "colab_type": "text",
    "id": "p8tz0bLlaqFR"
   },
   "source": [
    "<b>Observation:-</b> \n",
    "1. Helpfulness Numerator is greater than Helpfulness Denominator which is practically impossible so remove such data."
   ]
  },
  {
   "cell_type": "code",
   "execution_count": 0,
   "metadata": {
    "colab": {
     "autoexec": {
      "startup": false,
      "wait_interval": 0
     }
    },
    "colab_type": "code",
    "id": "CNFCE0DcanbY"
   },
   "outputs": [],
   "source": [
    "final=final[final.HelpfulnessNumerator<=final.HelpfulnessDenominator]\n"
   ]
  },
  {
   "cell_type": "code",
   "execution_count": 231,
   "metadata": {
    "colab": {
     "autoexec": {
      "startup": false,
      "wait_interval": 0
     },
     "base_uri": "https://localhost:8080/",
     "height": 85
    },
    "colab_type": "code",
    "executionInfo": {
     "elapsed": 827,
     "status": "ok",
     "timestamp": 1531557692273,
     "user": {
      "displayName": "Vishnu vardhan",
      "photoUrl": "//lh3.googleusercontent.com/-aWCh36gokTE/AAAAAAAAAAI/AAAAAAAAEho/sz27AYB6wCw/s50-c-k-no/photo.jpg",
      "userId": "115344496305613697268"
     },
     "user_tz": -330
    },
    "id": "FbhW87hDbZBa",
    "outputId": "e748135d-1d30-460c-d6e2-ee8da1dae7bd"
   },
   "outputs": [
    {
     "name": "stdout",
     "output_type": "stream",
     "text": [
      "(364171, 10)\n"
     ]
    },
    {
     "data": {
      "text/plain": [
       "positive    307061\n",
       "negative     57110\n",
       "Name: Score, dtype: int64"
      ]
     },
     "execution_count": 231,
     "metadata": {
      "tags": []
     },
     "output_type": "execute_result"
    }
   ],
   "source": [
    "#Before starting the next phase of preprocessing lets see the number of entries left\n",
    "print(final.shape)\n",
    "\n",
    "#How many positive and negative reviews are present in our dataset?\n",
    "final['Score'].value_counts()"
   ]
  },
  {
   "cell_type": "markdown",
   "metadata": {
    "colab_type": "text",
    "id": "LfIhX-X4be_M"
   },
   "source": [
    "<b>Observation:-</b> \n",
    "1. Data set is imbalance dataset with 16% reviews are negative and 84% belongs to positive lable."
   ]
  },
  {
   "cell_type": "markdown",
   "metadata": {
    "colab_type": "text",
    "id": "udsnZNgHbhJx"
   },
   "source": [
    "###  Text Preprocessing: Stemming, stop-word removal and Lemmatization.\n",
    "\n",
    "Now that we have finished deduplication our data requires some preprocessing before we go on further with analysis and making the prediction model.\n",
    "\n",
    "Hence in the Preprocessing phase we do the following in the order below:-\n",
    "\n",
    "1. Begin by removing the html tags\n",
    "2. Remove any punctuations or limited set of special characters like , or . or # etc.\n",
    "3. Check if the word is made up of english letters and is not alpha-numeric\n",
    "4. Check to see if the length of the word is greater than 2 (as it was researched that there is no adjective in 2-letters)\n",
    "5. Convert the word to lowercase\n",
    "6. Remove Stopwords\n",
    "1. Finally Snowball Stemming the word (it was obsereved to be better than Porter Stemming)<br>\n",
    "\n",
    "After which we collect the words used to describe positive and negative reviews\n"
   ]
  },
  {
   "cell_type": "code",
   "execution_count": 232,
   "metadata": {
    "colab": {
     "autoexec": {
      "startup": false,
      "wait_interval": 0
     },
     "base_uri": "https://localhost:8080/",
     "height": 71
    },
    "colab_type": "code",
    "executionInfo": {
     "elapsed": 1168,
     "status": "ok",
     "timestamp": 1531557693619,
     "user": {
      "displayName": "Vishnu vardhan",
      "photoUrl": "//lh3.googleusercontent.com/-aWCh36gokTE/AAAAAAAAAAI/AAAAAAAAEho/sz27AYB6wCw/s50-c-k-no/photo.jpg",
      "userId": "115344496305613697268"
     },
     "user_tz": -330
    },
    "id": "dqVBl_fEbugu",
    "outputId": "0c2c8c2e-1cad-4f71-fb62-c8a104eaec60"
   },
   "outputs": [
    {
     "name": "stdout",
     "output_type": "stream",
     "text": [
      "6\n",
      "I set aside at least an hour each day to read to my son (3 y/o). At this point, I consider myself a connoisseur of children's books and this is one of the best. Santa Clause put this under the tree. Since then, we've read it perpetually and he loves it.<br /><br />First, this book taught him the months of the year.<br /><br />Second, it's a pleasure to read. Well suited to 1.5 y/o old to 4+.<br /><br />Very few children's books are worth owning. Most should be borrowed from the library. This book, however, deserves a permanent spot on your shelf. Sendak's best.\n"
     ]
    }
   ],
   "source": [
    "# find sentences containing HTML tags\n",
    "#import regular expressions\n",
    "import re\n",
    "i=0;\n",
    "for sent in final['Text'].values:\n",
    "    if (len(re.findall('<.*?>', sent))):\n",
    "        print(i)\n",
    "        print(sent)\n",
    "        break;\n",
    "    i += 1; "
   ]
  },
  {
   "cell_type": "code",
   "execution_count": 233,
   "metadata": {
    "colab": {
     "autoexec": {
      "startup": false,
      "wait_interval": 0
     },
     "base_uri": "https://localhost:8080/",
     "height": 71
    },
    "colab_type": "code",
    "executionInfo": {
     "elapsed": 1548,
     "status": "ok",
     "timestamp": 1531557695307,
     "user": {
      "displayName": "Vishnu vardhan",
      "photoUrl": "//lh3.googleusercontent.com/-aWCh36gokTE/AAAAAAAAAAI/AAAAAAAAEho/sz27AYB6wCw/s50-c-k-no/photo.jpg",
      "userId": "115344496305613697268"
     },
     "user_tz": -330
    },
    "id": "sqIdB7nScDwJ",
    "outputId": "7a2b4407-368a-4615-bf26-a226a284876f"
   },
   "outputs": [
    {
     "name": "stdout",
     "output_type": "stream",
     "text": [
      "Some stop words are:\n",
      "{'it', 'more', 'some', 'were', 'herself', 'yourselves', 'below', 're', 'mightn', 'only', 'ours', 'this', 'them', 'an', 'against', 'shan', 'all', 'just', \"couldn't\", 'ourselves', 'both', 'again', 'which', 'that', 's', 'of', \"wouldn't\", \"weren't\", \"you'd\", 'too', 'needn', 'very', 'at', 'y', 'the', 'his', 'most', 'on', \"hadn't\", 'because', 'he', 'shouldn', 'himself', 'my', 'then', 'so', 'ain', 'after', 'during', 'does', 'me', 'be', 'now', \"mustn't\", 'its', 'm', 'than', 'haven', \"wasn't\", \"needn't\", 'having', 'wouldn', 'between', 'same', \"don't\", 'didn', 'by', 'off', 'had', 'but', \"should've\", 'i', 'him', 'hasn', 'here', 'd', \"isn't\", 'what', 'further', \"doesn't\", 'in', 'no', 'if', 'a', \"haven't\", 'how', 'am', 'once', 'o', 'isn', 'until', 'should', 'why', 'such', 'whom', 'from', 'own', \"that'll\", 'couldn', 'will', \"shan't\", 'your', 'was', \"aren't\", 'over', 'won', 'these', 'been', 'mustn', 'while', 'into', 'as', 'nor', 'or', 'themselves', 'before', 'to', 'doing', 'who', 'we', 'above', 'll', 'down', 'few', 'she', 'yourself', 'is', 'not', 'ma', 'do', 'hers', 'under', 'about', 'being', 'they', \"mightn't\", 'yours', 'with', 'hadn', 'where', \"it's\", 'itself', 'those', 'our', 'have', \"didn't\", 'any', \"you're\", 'are', \"she's\", 'her', 'theirs', 'has', 've', 'there', 'and', 'you', 'when', \"won't\", 'weren', 'aren', 'can', \"hasn't\", \"you've\", 'up', 'for', 'myself', 'other', 'doesn', 'wasn', 'out', 'each', \"shouldn't\", 'did', 't', 'through', 'their', \"you'll\", 'don'}\n"
     ]
    }
   ],
   "source": [
    "import re\n",
    "# Tutorial about Python regular expressions: https://pymotw.com/2/re/\n",
    "import string\n",
    "from nltk.corpus import stopwords\n",
    "from nltk.stem import PorterStemmer\n",
    "from nltk.stem.wordnet import WordNetLemmatizer\n",
    "\n",
    "stop = set(stopwords.words('english')) #set of stopwords\n",
    "sno = nltk.stem.SnowballStemmer('english') #initialising the snowball stemmer\n",
    "\n",
    "def cleanhtml(sentence): #function to clean the word of any html-tags\n",
    "    cleanr = re.compile('<.*?>')\n",
    "    cleantext = re.sub(cleanr, ' ', sentence)\n",
    "    return cleantext\n",
    "def cleanpunc(sentence): #function to clean the word of any punctuation or special characters\n",
    "    cleaned = re.sub(r'[?|!|\\'|\"|#]',r'',sentence)\n",
    "    cleaned = re.sub(r'[.|,|)|(|\\|/]',r' ',cleaned)\n",
    "    return  cleaned\n",
    "\n",
    "print('Some stop words are:')\n",
    "print(stop)\n"
   ]
  },
  {
   "cell_type": "code",
   "execution_count": 0,
   "metadata": {
    "colab": {
     "autoexec": {
      "startup": false,
      "wait_interval": 0
     }
    },
    "colab_type": "code",
    "id": "ArMyUXGQe_JQ"
   },
   "outputs": [],
   "source": [
    "#Code for implementing step-by-step the checks mentioned in the pre-processing phase\n",
    "i=0\n",
    "str1=' '\n",
    "final_string=[]\n",
    "all_positive_words=[] # store words from +ve reviews here\n",
    "all_negative_words=[] # store words from -ve reviews here.\n",
    "s=''\n",
    "for sent in final['Text'].values:\n",
    "    filtered_sentence=[]\n",
    "    #print(sent);\n",
    "    sent=cleanhtml(sent) # remove HTMl tags\n",
    "    for w in sent.split():\n",
    "        for cleaned_words in cleanpunc(w).split():\n",
    "            if((cleaned_words.isalpha()) & (len(cleaned_words)>2)):    \n",
    "                if(cleaned_words.lower() not in stop):\n",
    "                    s=(sno.stem(cleaned_words.lower())).encode('utf8')\n",
    "                    filtered_sentence.append(s)\n",
    "                    if (final['Score'].values)[i] == 'positive': \n",
    "                        all_positive_words.append(s) #list of all words used to describe positive reviews\n",
    "                    if(final['Score'].values)[i] == 'negative':\n",
    "                        all_negative_words.append(s) #list of all words used to describe negative reviews reviews\n",
    "                else:\n",
    "                    continue\n",
    "            else:\n",
    "                continue \n",
    "    #print(filtered_sentence)\n",
    "    str1 = b\" \".join(filtered_sentence) #final string of cleaned words\n",
    "    final_string.append(str1)\n",
    "    i+=1"
   ]
  },
  {
   "cell_type": "code",
   "execution_count": 0,
   "metadata": {
    "colab": {
     "autoexec": {
      "startup": false,
      "wait_interval": 0
     }
    },
    "colab_type": "code",
    "id": "d-pjgpFugvb3"
   },
   "outputs": [],
   "source": [
    "final['CleanedText'] = final_string #adding a column of CleanedText which displays the data after pre-processing of the review"
   ]
  },
  {
   "cell_type": "code",
   "execution_count": 236,
   "metadata": {
    "colab": {
     "autoexec": {
      "startup": false,
      "wait_interval": 0
     },
     "base_uri": "https://localhost:8080/",
     "height": 485
    },
    "colab_type": "code",
    "executionInfo": {
     "elapsed": 895,
     "status": "ok",
     "timestamp": 1531558175068,
     "user": {
      "displayName": "Vishnu vardhan",
      "photoUrl": "//lh3.googleusercontent.com/-aWCh36gokTE/AAAAAAAAAAI/AAAAAAAAEho/sz27AYB6wCw/s50-c-k-no/photo.jpg",
      "userId": "115344496305613697268"
     },
     "user_tz": -330
    },
    "id": "L6V50GA3iHp6",
    "outputId": "4d296d81-6dbd-4c06-d05c-5db97468bc60"
   },
   "outputs": [
    {
     "data": {
      "text/html": [
       "<div>\n",
       "<style scoped>\n",
       "    .dataframe tbody tr th:only-of-type {\n",
       "        vertical-align: middle;\n",
       "    }\n",
       "\n",
       "    .dataframe tbody tr th {\n",
       "        vertical-align: top;\n",
       "    }\n",
       "\n",
       "    .dataframe thead th {\n",
       "        text-align: right;\n",
       "    }\n",
       "</style>\n",
       "<table border=\"1\" class=\"dataframe\">\n",
       "  <thead>\n",
       "    <tr style=\"text-align: right;\">\n",
       "      <th></th>\n",
       "      <th>Id</th>\n",
       "      <th>ProductId</th>\n",
       "      <th>UserId</th>\n",
       "      <th>ProfileName</th>\n",
       "      <th>HelpfulnessNumerator</th>\n",
       "      <th>HelpfulnessDenominator</th>\n",
       "      <th>Score</th>\n",
       "      <th>Time</th>\n",
       "      <th>Summary</th>\n",
       "      <th>Text</th>\n",
       "      <th>CleanedText</th>\n",
       "    </tr>\n",
       "  </thead>\n",
       "  <tbody>\n",
       "    <tr>\n",
       "      <th>138706</th>\n",
       "      <td>150524</td>\n",
       "      <td>0006641040</td>\n",
       "      <td>ACITT7DI6IDDL</td>\n",
       "      <td>shari zychinski</td>\n",
       "      <td>0</td>\n",
       "      <td>0</td>\n",
       "      <td>positive</td>\n",
       "      <td>939340800</td>\n",
       "      <td>EVERY book is educational</td>\n",
       "      <td>this witty little book makes my son laugh at l...</td>\n",
       "      <td>b'witti littl book make son laugh loud recit c...</td>\n",
       "    </tr>\n",
       "    <tr>\n",
       "      <th>138688</th>\n",
       "      <td>150506</td>\n",
       "      <td>0006641040</td>\n",
       "      <td>A2IW4PEEKO2R0U</td>\n",
       "      <td>Tracy</td>\n",
       "      <td>1</td>\n",
       "      <td>1</td>\n",
       "      <td>positive</td>\n",
       "      <td>1194739200</td>\n",
       "      <td>Love the book, miss the hard cover version</td>\n",
       "      <td>I grew up reading these Sendak books, and watc...</td>\n",
       "      <td>b'grew read sendak book watch realli rosi movi...</td>\n",
       "    </tr>\n",
       "    <tr>\n",
       "      <th>138689</th>\n",
       "      <td>150507</td>\n",
       "      <td>0006641040</td>\n",
       "      <td>A1S4A3IQ2MU7V4</td>\n",
       "      <td>sally sue \"sally sue\"</td>\n",
       "      <td>1</td>\n",
       "      <td>1</td>\n",
       "      <td>positive</td>\n",
       "      <td>1191456000</td>\n",
       "      <td>chicken soup with rice months</td>\n",
       "      <td>This is a fun way for children to learn their ...</td>\n",
       "      <td>b'fun way children learn month year learn poem...</td>\n",
       "    </tr>\n",
       "  </tbody>\n",
       "</table>\n",
       "</div>"
      ],
      "text/plain": [
       "            Id   ProductId          UserId            ProfileName  \\\n",
       "138706  150524  0006641040   ACITT7DI6IDDL        shari zychinski   \n",
       "138688  150506  0006641040  A2IW4PEEKO2R0U                  Tracy   \n",
       "138689  150507  0006641040  A1S4A3IQ2MU7V4  sally sue \"sally sue\"   \n",
       "\n",
       "        HelpfulnessNumerator  HelpfulnessDenominator     Score        Time  \\\n",
       "138706                     0                       0  positive   939340800   \n",
       "138688                     1                       1  positive  1194739200   \n",
       "138689                     1                       1  positive  1191456000   \n",
       "\n",
       "                                           Summary  \\\n",
       "138706                   EVERY book is educational   \n",
       "138688  Love the book, miss the hard cover version   \n",
       "138689               chicken soup with rice months   \n",
       "\n",
       "                                                     Text  \\\n",
       "138706  this witty little book makes my son laugh at l...   \n",
       "138688  I grew up reading these Sendak books, and watc...   \n",
       "138689  This is a fun way for children to learn their ...   \n",
       "\n",
       "                                              CleanedText  \n",
       "138706  b'witti littl book make son laugh loud recit c...  \n",
       "138688  b'grew read sendak book watch realli rosi movi...  \n",
       "138689  b'fun way children learn month year learn poem...  "
      ]
     },
     "execution_count": 236,
     "metadata": {
      "tags": []
     },
     "output_type": "execute_result"
    }
   ],
   "source": [
    "final.head(3)"
   ]
  },
  {
   "cell_type": "markdown",
   "metadata": {
    "colab_type": "text",
    "id": "-eA8wPAMiudP"
   },
   "source": [
    "<b> Obseravtions-:</b>\n",
    "1. Last column of the dataframe is the cleaned text after text preprocessing like stemming, stop-word removal and lemmatization."
   ]
  },
  {
   "cell_type": "markdown",
   "metadata": {
    "colab_type": "text",
    "id": "2rPfXSmLA-Qv"
   },
   "source": [
    "###  Visualizing Data"
   ]
  },
  {
   "cell_type": "code",
   "execution_count": 0,
   "metadata": {
    "colab": {
     "autoexec": {
      "startup": false,
      "wait_interval": 0
     }
    },
    "colab_type": "code",
    "id": "Nv6gwX2QBQIH"
   },
   "outputs": [],
   "source": [
    "#define style for seaborn\n",
    "def style():\n",
    "    plt.subplots(figsize=(15,6))\n",
    "    sns.set_style(\"whitegrid\")\n",
    "    sns.despine()\n",
    "    sns.set_context(\"notebook\", font_scale=1.5, rc={\"lines.linewidth\": 2.5})\n",
    "    sns.color_palette('dark')"
   ]
  },
  {
   "cell_type": "code",
   "execution_count": 238,
   "metadata": {
    "colab": {
     "autoexec": {
      "startup": false,
      "wait_interval": 0
     },
     "base_uri": "https://localhost:8080/",
     "height": 441
    },
    "colab_type": "code",
    "executionInfo": {
     "elapsed": 1545,
     "status": "ok",
     "timestamp": 1531558177869,
     "user": {
      "displayName": "Vishnu vardhan",
      "photoUrl": "//lh3.googleusercontent.com/-aWCh36gokTE/AAAAAAAAAAI/AAAAAAAAEho/sz27AYB6wCw/s50-c-k-no/photo.jpg",
      "userId": "115344496305613697268"
     },
     "user_tz": -330
    },
    "id": "-i0YpR7oBQz_",
    "outputId": "f191d0e4-68a6-477f-b888-8b20545c44d7"
   },
   "outputs": [
    {
     "name": "stderr",
     "output_type": "stream",
     "text": [
      "/usr/local/lib/python3.6/dist-packages/seaborn/categorical.py:1428: FutureWarning: remove_na is deprecated and is a private function. Do not use.\n",
      "  stat_data = remove_na(group_data)\n"
     ]
    },
    {
     "data": {
      "text/plain": [
       "<matplotlib.axes._subplots.AxesSubplot at 0x7fa09856f630>"
      ]
     },
     "execution_count": 238,
     "metadata": {
      "tags": []
     },
     "output_type": "execute_result"
    },
    {
     "data": {
      "image/png": "[encoded data removed]",
      "text/plain": [
       "<matplotlib.figure.Figure at 0x7fa0a47f6cf8>"
      ]
     },
     "metadata": {
      "tags": []
     },
     "output_type": "display_data"
    }
   ],
   "source": [
    "sns.countplot(data=final,x='Score')"
   ]
  },
  {
   "cell_type": "markdown",
   "metadata": {
    "colab_type": "text",
    "id": "brrgKCKSxtEw"
   },
   "source": [
    "<b> Obseravtions-:</b>\n",
    "1. The dataset contains two lables positive and negative. Dataset is highly imbalanced dataset with 16% negative and 86% positive."
   ]
  },
  {
   "cell_type": "code",
   "execution_count": 239,
   "metadata": {
    "colab": {
     "autoexec": {
      "startup": false,
      "wait_interval": 0
     },
     "base_uri": "https://localhost:8080/",
     "height": 434
    },
    "colab_type": "code",
    "executionInfo": {
     "elapsed": 1720,
     "status": "ok",
     "timestamp": 1531558179754,
     "user": {
      "displayName": "Vishnu vardhan",
      "photoUrl": "//lh3.googleusercontent.com/-aWCh36gokTE/AAAAAAAAAAI/AAAAAAAAEho/sz27AYB6wCw/s50-c-k-no/photo.jpg",
      "userId": "115344496305613697268"
     },
     "user_tz": -330
    },
    "id": "iepjexFbBQ_U",
    "outputId": "9dfb6675-8e5a-4ade-f55d-28a0d80ec664"
   },
   "outputs": [
    {
     "data": {
      "text/plain": [
       "Text(0.5,1,'pdf for length of reviews')"
      ]
     },
     "execution_count": 239,
     "metadata": {
      "tags": []
     },
     "output_type": "execute_result"
    },
    {
     "data": {
      "image/png": "[encoded data removed]",
      "text/plain": [
       "<matplotlib.figure.Figure at 0x7fa0a93db9b0>"
      ]
     },
     "metadata": {
      "tags": []
     },
     "output_type": "display_data"
    }
   ],
   "source": [
    "#length of text of each review\n",
    "def length(x):\n",
    "    return len(x)\n",
    "leng=final['Text'].map(length)\n",
    "leng=list(leng)\n",
    "#pdf of reviews\n",
    "style()\n",
    "sns.distplot(leng,hist=False).set_title('pdf for length of reviews')"
   ]
  },
  {
   "cell_type": "markdown",
   "metadata": {
    "colab_type": "text",
    "id": "Q5ifPKmHCit-"
   },
   "source": [
    "<b> Obseravtions-:</b>\n",
    "1. Length of  reviews is in power law distribution and 80% of data lies in first 20% region."
   ]
  },
  {
   "cell_type": "code",
   "execution_count": 240,
   "metadata": {
    "colab": {
     "autoexec": {
      "startup": false,
      "wait_interval": 0
     },
     "base_uri": "https://localhost:8080/",
     "height": 487
    },
    "colab_type": "code",
    "executionInfo": {
     "elapsed": 3359,
     "status": "ok",
     "timestamp": 1531558183253,
     "user": {
      "displayName": "Vishnu vardhan",
      "photoUrl": "//lh3.googleusercontent.com/-aWCh36gokTE/AAAAAAAAAAI/AAAAAAAAEho/sz27AYB6wCw/s50-c-k-no/photo.jpg",
      "userId": "115344496305613697268"
     },
     "user_tz": -330
    },
    "id": "gbs4AangBwA3",
    "outputId": "10e7f4ba-f31a-45f8-b3ac-eba5d55fad38"
   },
   "outputs": [
    {
     "name": "stderr",
     "output_type": "stream",
     "text": [
      "/usr/local/lib/python3.6/dist-packages/seaborn/categorical.py:1428: FutureWarning: remove_na is deprecated and is a private function. Do not use.\n",
      "  stat_data = remove_na(group_data)\n"
     ]
    },
    {
     "data": {
      "text/plain": [
       "Text(0.5,1,'Reviews given by users each year')"
      ]
     },
     "execution_count": 240,
     "metadata": {
      "tags": []
     },
     "output_type": "execute_result"
    },
    {
     "data": {
      "image/png": "[encoded data removed]",
      "text/plain": [
       "<matplotlib.figure.Figure at 0x7fa057047f98>"
      ]
     },
     "metadata": {
      "tags": []
     },
     "output_type": "display_data"
    }
   ],
   "source": [
    "#convert time stamp to date and column as data\n",
    "final['date'] = pd.to_datetime(final['Time'], unit='s',)\n",
    "date = final['date']\n",
    "style()\n",
    "a = pd.to_datetime(final['Time'], unit='s')\n",
    "years=a.map(lambda x:x.year)\n",
    "years=years.reset_index()\n",
    "years.columns=['count','year']\n",
    "sns.countplot(data=years,x='year').set_title('Reviews given by users each year')"
   ]
  },
  {
   "cell_type": "markdown",
   "metadata": {
    "colab_type": "text",
    "id": "7lJzajeCyLiH"
   },
   "source": [
    "<b> Obseravtions-:</b>\n",
    "1. More number of reviews were given by users in the year 2012.\n",
    "2. Every year the number of given by users are increasing."
   ]
  },
  {
   "cell_type": "code",
   "execution_count": 241,
   "metadata": {
    "colab": {
     "autoexec": {
      "startup": false,
      "wait_interval": 0
     },
     "base_uri": "https://localhost:8080/",
     "height": 487
    },
    "colab_type": "code",
    "executionInfo": {
     "elapsed": 3680,
     "status": "ok",
     "timestamp": 1531558187051,
     "user": {
      "displayName": "Vishnu vardhan",
      "photoUrl": "//lh3.googleusercontent.com/-aWCh36gokTE/AAAAAAAAAAI/AAAAAAAAEho/sz27AYB6wCw/s50-c-k-no/photo.jpg",
      "userId": "115344496305613697268"
     },
     "user_tz": -330
    },
    "id": "lihYzAC1CEX0",
    "outputId": "9ed3d909-0e15-4cde-f0bd-d1fc29fba7d0"
   },
   "outputs": [
    {
     "name": "stderr",
     "output_type": "stream",
     "text": [
      "/usr/local/lib/python3.6/dist-packages/seaborn/categorical.py:1428: FutureWarning: remove_na is deprecated and is a private function. Do not use.\n",
      "  stat_data = remove_na(group_data)\n"
     ]
    },
    {
     "data": {
      "text/plain": [
       "Text(0.5,1,'Reviews given by users each month')"
      ]
     },
     "execution_count": 241,
     "metadata": {
      "tags": []
     },
     "output_type": "execute_result"
    },
    {
     "data": {
      "image/png": "[encoded data removed]",
      "text/plain": [
       "<matplotlib.figure.Figure at 0x7fa0ab642438>"
      ]
     },
     "metadata": {
      "tags": []
     },
     "output_type": "display_data"
    }
   ],
   "source": [
    "\n",
    "style()\n",
    "a = pd.to_datetime(final['Time'], unit='s')\n",
    "months=a.map(lambda x:x.month)\n",
    "months=months.reset_index()\n",
    "months.columns =['count','month']\n",
    "months\n",
    "sns.countplot(data=months,x='month').set_title('Reviews given by users each month')"
   ]
  },
  {
   "cell_type": "code",
   "execution_count": 0,
   "metadata": {
    "colab": {
     "autoexec": {
      "startup": false,
      "wait_interval": 0
     }
    },
    "colab_type": "code",
    "id": "e_R89-eS8Yvp"
   },
   "outputs": [],
   "source": []
  },
  {
   "cell_type": "code",
   "execution_count": 242,
   "metadata": {
    "colab": {
     "autoexec": {
      "startup": false,
      "wait_interval": 0
     },
     "base_uri": "https://localhost:8080/",
     "height": 325
    },
    "colab_type": "code",
    "executionInfo": {
     "elapsed": 1809,
     "status": "ok",
     "timestamp": 1531558190085,
     "user": {
      "displayName": "Vishnu vardhan",
      "photoUrl": "//lh3.googleusercontent.com/-aWCh36gokTE/AAAAAAAAAAI/AAAAAAAAEho/sz27AYB6wCw/s50-c-k-no/photo.jpg",
      "userId": "115344496305613697268"
     },
     "user_tz": -330
    },
    "id": "OmPVLEae4nQF",
    "outputId": "e3399616-cf69-489b-933d-725cd1c430a1"
   },
   "outputs": [
    {
     "data": {
      "image/png": "[encoded data removed]",
      "text/plain": [
       "<matplotlib.figure.Figure at 0x7fa085c3f828>"
      ]
     },
     "metadata": {
      "tags": []
     },
     "output_type": "display_data"
    }
   ],
   "source": [
    "#Build wordcloud\n",
    "from wordcloud import WordCloud,STOPWORDS\n",
    "\n",
    "#get all words\n",
    "words = str(final['Text'].values)\n",
    "\n",
    "# Generate a word cloud image\n",
    "wordcloud = WordCloud(width=1000,height=600,max_font_size=95,max_words=6000,background_color='white',colormap='Spectral').generate(words)\n",
    "\n",
    "# Display the generated image:\n",
    "# the matplotlib way:\n",
    "plt.imshow(wordcloud)\n",
    "plt.axis('off');\n"
   ]
  },
  {
   "cell_type": "code",
   "execution_count": 243,
   "metadata": {
    "colab": {
     "autoexec": {
      "startup": false,
      "wait_interval": 0
     },
     "base_uri": "https://localhost:8080/",
     "height": 487
    },
    "colab_type": "code",
    "executionInfo": {
     "elapsed": 2089,
     "status": "ok",
     "timestamp": 1531558192337,
     "user": {
      "displayName": "Vishnu vardhan",
      "photoUrl": "//lh3.googleusercontent.com/-aWCh36gokTE/AAAAAAAAAAI/AAAAAAAAEho/sz27AYB6wCw/s50-c-k-no/photo.jpg",
      "userId": "115344496305613697268"
     },
     "user_tz": -330
    },
    "id": "8YriktNmBwXO",
    "outputId": "58666add-db44-4cc2-aecd-f12c512d64d5"
   },
   "outputs": [
    {
     "name": "stderr",
     "output_type": "stream",
     "text": [
      "/usr/local/lib/python3.6/dist-packages/seaborn/categorical.py:1428: FutureWarning: remove_na is deprecated and is a private function. Do not use.\n",
      "  stat_data = remove_na(group_data)\n"
     ]
    },
    {
     "data": {
      "text/plain": [
       "Text(0.5,1,'Users given more reviews')"
      ]
     },
     "execution_count": 243,
     "metadata": {
      "tags": []
     },
     "output_type": "execute_result"
    },
    {
     "data": {
      "image/png": "[encoded data removed]",
      "text/plain": [
       "<matplotlib.figure.Figure at 0x7fa0905e0a90>"
      ]
     },
     "metadata": {
      "tags": []
     },
     "output_type": "display_data"
    }
   ],
   "source": [
    "#top users\n",
    "top= final.groupby(by='ProfileName')['Id'].count().reset_index()\n",
    "top=top.sort_values('Id',ascending=False)[:15]\n",
    "style()\n",
    "sns.barplot(data=top,x='Id',y='ProfileName',palette='bright').set_title('Users given more reviews')"
   ]
  },
  {
   "cell_type": "code",
   "execution_count": 244,
   "metadata": {
    "colab": {
     "autoexec": {
      "startup": false,
      "wait_interval": 0
     },
     "base_uri": "https://localhost:8080/",
     "height": 359
    },
    "colab_type": "code",
    "executionInfo": {
     "elapsed": 903,
     "status": "ok",
     "timestamp": 1531558193453,
     "user": {
      "displayName": "Vishnu vardhan",
      "photoUrl": "//lh3.googleusercontent.com/-aWCh36gokTE/AAAAAAAAAAI/AAAAAAAAEho/sz27AYB6wCw/s50-c-k-no/photo.jpg",
      "userId": "115344496305613697268"
     },
     "user_tz": -330
    },
    "id": "fm-nwU9lCQXk",
    "outputId": "214d8491-d67a-43b3-fd9c-904e57765d35"
   },
   "outputs": [
    {
     "data": {
      "text/html": [
       "<div>\n",
       "<style scoped>\n",
       "    .dataframe tbody tr th:only-of-type {\n",
       "        vertical-align: middle;\n",
       "    }\n",
       "\n",
       "    .dataframe tbody tr th {\n",
       "        vertical-align: top;\n",
       "    }\n",
       "\n",
       "    .dataframe thead th {\n",
       "        text-align: right;\n",
       "    }\n",
       "</style>\n",
       "<table border=\"1\" class=\"dataframe\">\n",
       "  <thead>\n",
       "    <tr style=\"text-align: right;\">\n",
       "      <th></th>\n",
       "      <th>ProductId</th>\n",
       "      <th>positive_count</th>\n",
       "    </tr>\n",
       "  </thead>\n",
       "  <tbody>\n",
       "    <tr>\n",
       "      <th>58087</th>\n",
       "      <td>B007JFMH8M</td>\n",
       "      <td>840</td>\n",
       "    </tr>\n",
       "    <tr>\n",
       "      <th>38469</th>\n",
       "      <td>B003B3OOPA</td>\n",
       "      <td>585</td>\n",
       "    </tr>\n",
       "    <tr>\n",
       "      <th>31888</th>\n",
       "      <td>B0026RQTGE</td>\n",
       "      <td>571</td>\n",
       "    </tr>\n",
       "    <tr>\n",
       "      <th>24165</th>\n",
       "      <td>B001EO5Q64</td>\n",
       "      <td>538</td>\n",
       "    </tr>\n",
       "    <tr>\n",
       "      <th>14547</th>\n",
       "      <td>B000NMJWZO</td>\n",
       "      <td>527</td>\n",
       "    </tr>\n",
       "    <tr>\n",
       "      <th>17493</th>\n",
       "      <td>B000VK8AVK</td>\n",
       "      <td>457</td>\n",
       "    </tr>\n",
       "    <tr>\n",
       "      <th>16841</th>\n",
       "      <td>B000UBD88A</td>\n",
       "      <td>451</td>\n",
       "    </tr>\n",
       "    <tr>\n",
       "      <th>55493</th>\n",
       "      <td>B005ZBZLT4</td>\n",
       "      <td>417</td>\n",
       "    </tr>\n",
       "    <tr>\n",
       "      <th>15362</th>\n",
       "      <td>B000PDWBKO</td>\n",
       "      <td>405</td>\n",
       "    </tr>\n",
       "    <tr>\n",
       "      <th>54272</th>\n",
       "      <td>B005K4Q1YA</td>\n",
       "      <td>371</td>\n",
       "    </tr>\n",
       "  </tbody>\n",
       "</table>\n",
       "</div>"
      ],
      "text/plain": [
       "        ProductId  positive_count\n",
       "58087  B007JFMH8M             840\n",
       "38469  B003B3OOPA             585\n",
       "31888  B0026RQTGE             571\n",
       "24165  B001EO5Q64             538\n",
       "14547  B000NMJWZO             527\n",
       "17493  B000VK8AVK             457\n",
       "16841  B000UBD88A             451\n",
       "55493  B005ZBZLT4             417\n",
       "15362  B000PDWBKO             405\n",
       "54272  B005K4Q1YA             371"
      ]
     },
     "execution_count": 244,
     "metadata": {
      "tags": []
     },
     "output_type": "execute_result"
    }
   ],
   "source": [
    "#top positive rated product\n",
    "positive = final[final['Score']=='positive']\n",
    "top= positive.groupby(by='ProductId')['Id'].count().reset_index()\n",
    "top=top.sort_values('Id',ascending=False)[:10]\n",
    "top.columns=['ProductId','positive_count']\n",
    "top\n"
   ]
  },
  {
   "cell_type": "markdown",
   "metadata": {
    "colab_type": "text",
    "id": "wW4ArYzHDCT5"
   },
   "source": [
    "<b> Obseravtion:</b>\n",
    "Top Positive product\n",
    "<img src='top_positive.jpg',height=100>"
   ]
  },
  {
   "cell_type": "code",
   "execution_count": 245,
   "metadata": {
    "colab": {
     "autoexec": {
      "startup": false,
      "wait_interval": 0
     },
     "base_uri": "https://localhost:8080/",
     "height": 359
    },
    "colab_type": "code",
    "executionInfo": {
     "elapsed": 1096,
     "status": "ok",
     "timestamp": 1531558194751,
     "user": {
      "displayName": "Vishnu vardhan",
      "photoUrl": "//lh3.googleusercontent.com/-aWCh36gokTE/AAAAAAAAAAI/AAAAAAAAEho/sz27AYB6wCw/s50-c-k-no/photo.jpg",
      "userId": "115344496305613697268"
     },
     "user_tz": -330
    },
    "id": "8eIUjn8SCS43",
    "outputId": "7a7102c7-39ec-474e-dd39-ae4c1f27421a"
   },
   "outputs": [
    {
     "data": {
      "text/html": [
       "<div>\n",
       "<style scoped>\n",
       "    .dataframe tbody tr th:only-of-type {\n",
       "        vertical-align: middle;\n",
       "    }\n",
       "\n",
       "    .dataframe tbody tr th {\n",
       "        vertical-align: top;\n",
       "    }\n",
       "\n",
       "    .dataframe thead th {\n",
       "        text-align: right;\n",
       "    }\n",
       "</style>\n",
       "<table border=\"1\" class=\"dataframe\">\n",
       "  <thead>\n",
       "    <tr style=\"text-align: right;\">\n",
       "      <th></th>\n",
       "      <th>ProductId</th>\n",
       "      <th>positive_count</th>\n",
       "    </tr>\n",
       "  </thead>\n",
       "  <tbody>\n",
       "    <tr>\n",
       "      <th>5305</th>\n",
       "      <td>B000KV61FC</td>\n",
       "      <td>167</td>\n",
       "    </tr>\n",
       "    <tr>\n",
       "      <th>18228</th>\n",
       "      <td>B0041NYV8E</td>\n",
       "      <td>146</td>\n",
       "    </tr>\n",
       "    <tr>\n",
       "      <th>7666</th>\n",
       "      <td>B000X1Q1G8</td>\n",
       "      <td>141</td>\n",
       "    </tr>\n",
       "    <tr>\n",
       "      <th>21892</th>\n",
       "      <td>B005K4Q1YA</td>\n",
       "      <td>141</td>\n",
       "    </tr>\n",
       "    <tr>\n",
       "      <th>2306</th>\n",
       "      <td>B000CNB4LE</td>\n",
       "      <td>129</td>\n",
       "    </tr>\n",
       "    <tr>\n",
       "      <th>20211</th>\n",
       "      <td>B004OAZ36I</td>\n",
       "      <td>122</td>\n",
       "    </tr>\n",
       "    <tr>\n",
       "      <th>22616</th>\n",
       "      <td>B006N3I69A</td>\n",
       "      <td>122</td>\n",
       "    </tr>\n",
       "    <tr>\n",
       "      <th>22608</th>\n",
       "      <td>B006MONQMC</td>\n",
       "      <td>106</td>\n",
       "    </tr>\n",
       "    <tr>\n",
       "      <th>20576</th>\n",
       "      <td>B004TJF3BE</td>\n",
       "      <td>106</td>\n",
       "    </tr>\n",
       "    <tr>\n",
       "      <th>22640</th>\n",
       "      <td>B006Q820X0</td>\n",
       "      <td>98</td>\n",
       "    </tr>\n",
       "  </tbody>\n",
       "</table>\n",
       "</div>"
      ],
      "text/plain": [
       "        ProductId  positive_count\n",
       "5305   B000KV61FC             167\n",
       "18228  B0041NYV8E             146\n",
       "7666   B000X1Q1G8             141\n",
       "21892  B005K4Q1YA             141\n",
       "2306   B000CNB4LE             129\n",
       "20211  B004OAZ36I             122\n",
       "22616  B006N3I69A             122\n",
       "22608  B006MONQMC             106\n",
       "20576  B004TJF3BE             106\n",
       "22640  B006Q820X0              98"
      ]
     },
     "execution_count": 245,
     "metadata": {
      "tags": []
     },
     "output_type": "execute_result"
    }
   ],
   "source": [
    "#Top negative rated products\n",
    "negative = final[final['Score']=='negative']\n",
    "top= negative.groupby(by='ProductId')['Id'].count().reset_index()\n",
    "top=top.sort_values('Id',ascending=False)[:10]\n",
    "top.columns=['ProductId','positive_count']\n",
    "top\n"
   ]
  },
  {
   "cell_type": "markdown",
   "metadata": {
    "colab_type": "text",
    "id": "QYcUw4InFHyp"
   },
   "source": [
    "<b> Obseravtion:</b>\n",
    "Top Negative product\n",
    "<img src='top_negative.jpg',width=150,height=50,width=50>"
   ]
  },
  {
   "cell_type": "markdown",
   "metadata": {
    "colab_type": "text",
    "id": "Xyad11rx36JO"
   },
   "source": [
    "#  Machine Learning models"
   ]
  },
  {
   "cell_type": "markdown",
   "metadata": {
    "colab_type": "text",
    "id": "yPOTb5Vn-b-L"
   },
   "source": [
    "<b>Task</b>:<br> Build a Machine learning model such that given a new review our model should predict the polarity of the review without any information about product and user."
   ]
  },
  {
   "cell_type": "markdown",
   "metadata": {
    "colab_type": "text",
    "id": "ntruS0j1k0zc"
   },
   "source": [
    "##  Sampling Data"
   ]
  },
  {
   "cell_type": "markdown",
   "metadata": {
    "colab_type": "text",
    "id": "8VjNKwdGlU6H"
   },
   "source": [
    "Since we have very huge data we just take a sample of data and build machine learning models."
   ]
  },
  {
   "cell_type": "code",
   "execution_count": 0,
   "metadata": {
    "colab": {
     "autoexec": {
      "startup": false,
      "wait_interval": 0
     }
    },
    "colab_type": "code",
    "id": "jb0vyzS1doTo"
   },
   "outputs": [],
   "source": [
    "#We take a sample of 100000 data points\n",
    "from sklearn.utils import resample\n",
    "sample = resample(final,n_samples=100000)"
   ]
  },
  {
   "cell_type": "markdown",
   "metadata": {
    "colab_type": "text",
    "id": "jWSXdp90_5gP"
   },
   "source": [
    "##  Train, CV ,Test Split"
   ]
  },
  {
   "cell_type": "markdown",
   "metadata": {
    "colab_type": "text",
    "id": "7dUVvwXbAAK9"
   },
   "source": [
    "<p3> Given data contain time split and also reviews might have an impact on the time of the review given. So we consider <b>time based splitting</b> for train, cv, test.\n",
    "</p3>"
   ]
  },
  {
   "cell_type": "markdown",
   "metadata": {
    "colab_type": "text",
    "id": "px2ukPAJAwzV"
   },
   "source": [
    "We consider Train => 64% , CV => 16%, and test =>20% "
   ]
  },
  {
   "cell_type": "code",
   "execution_count": 247,
   "metadata": {
    "colab": {
     "autoexec": {
      "startup": false,
      "wait_interval": 0
     },
     "base_uri": "https://localhost:8080/",
     "height": 68
    },
    "colab_type": "code",
    "executionInfo": {
     "elapsed": 885,
     "status": "ok",
     "timestamp": 1531558196853,
     "user": {
      "displayName": "Vishnu vardhan",
      "photoUrl": "//lh3.googleusercontent.com/-aWCh36gokTE/AAAAAAAAAAI/AAAAAAAAEho/sz27AYB6wCw/s50-c-k-no/photo.jpg",
      "userId": "115344496305613697268"
     },
     "user_tz": -330
    },
    "id": "8EtVHCDT__z4",
    "outputId": "b4732849-ef22-4724-dbf5-dab96c32aa91"
   },
   "outputs": [
    {
     "name": "stdout",
     "output_type": "stream",
     "text": [
      "train size is: (64000, 12)\n",
      "cv size is: (16000, 12)\n",
      "test size is: (20000, 12)\n"
     ]
    }
   ],
   "source": [
    "# sort our sampled data based on time in ascending order\n",
    "sample = sample.sort_values(by='Time',kind='quicksort')\n",
    "\n",
    "#splitting 64% as train 16% as cv and 25% as test data\n",
    "a = int(sample.shape[0] * 0.80)\n",
    "b = int(a * 0.8)\n",
    "\n",
    "train = sample.iloc[:b,:]\n",
    "cv = sample.iloc[b:a]\n",
    "test = sample.iloc[a:,:]\n",
    "\n",
    "# print train,cv and test size\n",
    "print('train size is:',train.shape)\n",
    "print('cv size is:',cv.shape)\n",
    "print('test size is:',test.shape)"
   ]
  },
  {
   "cell_type": "markdown",
   "metadata": {
    "colab_type": "text",
    "id": "d1Lce1Gcno9I"
   },
   "source": [
    "##  Prepare Data for Machine Learning Model"
   ]
  },
  {
   "cell_type": "markdown",
   "metadata": {
    "colab_type": "text",
    "id": "hXhzovpB_BT6"
   },
   "source": [
    "<b>Given features are text words we can convert text into numerical vectors</b><br>\n",
    "1. Bag Of Words\n",
    "2. Tfidf vectors\n"
   ]
  },
  {
   "cell_type": "markdown",
   "metadata": {
    "colab_type": "text",
    "id": "lwgaODyA_zTD"
   },
   "source": [
    "<br>We perform vectorization on the cleaned text(pre-processed text)"
   ]
  },
  {
   "cell_type": "markdown",
   "metadata": {
    "colab_type": "text",
    "id": "6drSuZdvEFYp"
   },
   "source": [
    "###  Prepare y labels"
   ]
  },
  {
   "cell_type": "code",
   "execution_count": 0,
   "metadata": {
    "colab": {
     "autoexec": {
      "startup": false,
      "wait_interval": 0
     }
    },
    "colab_type": "code",
    "id": "joo6rD8HEEGV"
   },
   "outputs": [],
   "source": [
    "#convert positive label as 1 and negative as 0\n",
    "def convert(x):\n",
    "    if x == 'positive':\n",
    "        return 1\n",
    "    else:\n",
    "        return 0\n",
    "#train y labels    \n",
    "y_train = train['Score'].map(convert)\n",
    "y_cv = cv['Score'].map(convert)\n",
    "y_test = test['Score'].map(convert)\n"
   ]
  },
  {
   "cell_type": "markdown",
   "metadata": {
    "colab_type": "text",
    "id": "GM-hWrNqn1Y9"
   },
   "source": [
    "###  Covert text to vectors using BoW"
   ]
  },
  {
   "cell_type": "code",
   "execution_count": 249,
   "metadata": {
    "colab": {
     "autoexec": {
      "startup": false,
      "wait_interval": 0
     },
     "base_uri": "https://localhost:8080/",
     "height": 34
    },
    "colab_type": "code",
    "executionInfo": {
     "elapsed": 3069,
     "status": "ok",
     "timestamp": 1531558201127,
     "user": {
      "displayName": "Vishnu vardhan",
      "photoUrl": "//lh3.googleusercontent.com/-aWCh36gokTE/AAAAAAAAAAI/AAAAAAAAEho/sz27AYB6wCw/s50-c-k-no/photo.jpg",
      "userId": "115344496305613697268"
     },
     "user_tz": -330
    },
    "id": "o1C6N2Qjn-lq",
    "outputId": "aaf0cbdb-74cd-48e7-d4af-ee525fd03b57"
   },
   "outputs": [
    {
     "data": {
      "text/plain": [
       "(64000, 28885)"
      ]
     },
     "execution_count": 249,
     "metadata": {
      "tags": []
     },
     "output_type": "execute_result"
    }
   ],
   "source": [
    "#Convert text to Bag of words for each word in the corpus.\n",
    "bow = CountVectorizer()\n",
    "bow_counts = bow.fit_transform(train['CleanedText'].values)\n",
    "bow_counts.shape"
   ]
  },
  {
   "cell_type": "code",
   "execution_count": 0,
   "metadata": {
    "colab": {
     "autoexec": {
      "startup": false,
      "wait_interval": 0
     }
    },
    "colab_type": "code",
    "id": "qjjCALUH9AMM"
   },
   "outputs": [],
   "source": [
    "#don't forgot to normalize train data\n",
    "X_bow = normalize(bow_counts,axis=0)\n",
    "#convert cv text to Bow vectors\n",
    "X_cv_bow = bow.transform(cv['CleanedText'].values)\n",
    "#don't forgot to normalize cv data\n",
    "X_cv_bow = normalize(X_cv_bow,axis=0)\n",
    "#convert test text to Bow vectors\n",
    "X_test_bow = bow.transform(test['CleanedText'].values)\n",
    "#don't forgot to normalize cv data\n",
    "X_test_bow = normalize(X_test_bow,axis=0)\n"
   ]
  },
  {
   "cell_type": "markdown",
   "metadata": {
    "colab_type": "text",
    "id": "6iUwb_K8oaCK"
   },
   "source": [
    "###  Convert text to vectors using TF-IDF"
   ]
  },
  {
   "cell_type": "code",
   "execution_count": 0,
   "metadata": {
    "colab": {
     "autoexec": {
      "startup": false,
      "wait_interval": 0
     }
    },
    "colab_type": "code",
    "id": "IG0urxaxpBke"
   },
   "outputs": [],
   "source": [
    "#Convert text to tfidf for each word in the corpus.\n",
    "#We consider only uni-grams as computing time and space is less.\n",
    "tfidf_vect = TfidfVectorizer(ngram_range=(1,1))\n",
    "final_tfidf = tfidf_vect.fit_transform(train['CleanedText'].values)"
   ]
  },
  {
   "cell_type": "code",
   "execution_count": 252,
   "metadata": {
    "colab": {
     "autoexec": {
      "startup": false,
      "wait_interval": 0
     },
     "base_uri": "https://localhost:8080/",
     "height": 514
    },
    "colab_type": "code",
    "executionInfo": {
     "elapsed": 887,
     "status": "ok",
     "timestamp": 1531558208724,
     "user": {
      "displayName": "Vishnu vardhan",
      "photoUrl": "//lh3.googleusercontent.com/-aWCh36gokTE/AAAAAAAAAAI/AAAAAAAAEho/sz27AYB6wCw/s50-c-k-no/photo.jpg",
      "userId": "115344496305613697268"
     },
     "user_tz": -330
    },
    "id": "TYE8_bG0PWCi",
    "outputId": "e84cfbfd-80e0-4ce9-8c48-57d9c1a294ee"
   },
   "outputs": [
    {
     "data": {
      "text/html": [
       "<div>\n",
       "<style scoped>\n",
       "    .dataframe tbody tr th:only-of-type {\n",
       "        vertical-align: middle;\n",
       "    }\n",
       "\n",
       "    .dataframe tbody tr th {\n",
       "        vertical-align: top;\n",
       "    }\n",
       "\n",
       "    .dataframe thead th {\n",
       "        text-align: right;\n",
       "    }\n",
       "</style>\n",
       "<table border=\"1\" class=\"dataframe\">\n",
       "  <thead>\n",
       "    <tr style=\"text-align: right;\">\n",
       "      <th></th>\n",
       "      <th>feature</th>\n",
       "      <th>tfidf</th>\n",
       "    </tr>\n",
       "  </thead>\n",
       "  <tbody>\n",
       "    <tr>\n",
       "      <th>0</th>\n",
       "      <td>rumplestiskin</td>\n",
       "      <td>0.311728</td>\n",
       "    </tr>\n",
       "    <tr>\n",
       "      <th>1</th>\n",
       "      <td>geena</td>\n",
       "      <td>0.270504</td>\n",
       "    </tr>\n",
       "    <tr>\n",
       "      <th>2</th>\n",
       "      <td>rumbl</td>\n",
       "      <td>0.260425</td>\n",
       "    </tr>\n",
       "    <tr>\n",
       "      <th>3</th>\n",
       "      <td>burton</td>\n",
       "      <td>0.256503</td>\n",
       "    </tr>\n",
       "    <tr>\n",
       "      <th>4</th>\n",
       "      <td>davi</td>\n",
       "      <td>0.256503</td>\n",
       "    </tr>\n",
       "    <tr>\n",
       "      <th>5</th>\n",
       "      <td>keaton</td>\n",
       "      <td>0.253072</td>\n",
       "    </tr>\n",
       "    <tr>\n",
       "      <th>6</th>\n",
       "      <td>masterpiec</td>\n",
       "      <td>0.242502</td>\n",
       "    </tr>\n",
       "    <tr>\n",
       "      <th>7</th>\n",
       "      <td>absurd</td>\n",
       "      <td>0.242502</td>\n",
       "    </tr>\n",
       "    <tr>\n",
       "      <th>8</th>\n",
       "      <td>captur</td>\n",
       "      <td>0.239396</td>\n",
       "    </tr>\n",
       "    <tr>\n",
       "      <th>9</th>\n",
       "      <td>tim</td>\n",
       "      <td>0.235736</td>\n",
       "    </tr>\n",
       "    <tr>\n",
       "      <th>10</th>\n",
       "      <td>michael</td>\n",
       "      <td>0.234893</td>\n",
       "    </tr>\n",
       "    <tr>\n",
       "      <th>11</th>\n",
       "      <td>film</td>\n",
       "      <td>0.215483</td>\n",
       "    </tr>\n",
       "    <tr>\n",
       "      <th>12</th>\n",
       "      <td>dull</td>\n",
       "      <td>0.214676</td>\n",
       "    </tr>\n",
       "    <tr>\n",
       "      <th>13</th>\n",
       "      <td>pace</td>\n",
       "      <td>0.207394</td>\n",
       "    </tr>\n",
       "    <tr>\n",
       "      <th>14</th>\n",
       "      <td>twist</td>\n",
       "      <td>0.187794</td>\n",
       "    </tr>\n",
       "  </tbody>\n",
       "</table>\n",
       "</div>"
      ],
      "text/plain": [
       "          feature     tfidf\n",
       "0   rumplestiskin  0.311728\n",
       "1           geena  0.270504\n",
       "2           rumbl  0.260425\n",
       "3          burton  0.256503\n",
       "4            davi  0.256503\n",
       "5          keaton  0.253072\n",
       "6      masterpiec  0.242502\n",
       "7          absurd  0.242502\n",
       "8          captur  0.239396\n",
       "9             tim  0.235736\n",
       "10        michael  0.234893\n",
       "11           film  0.215483\n",
       "12           dull  0.214676\n",
       "13           pace  0.207394\n",
       "14          twist  0.187794"
      ]
     },
     "execution_count": 252,
     "metadata": {
      "tags": []
     },
     "output_type": "execute_result"
    }
   ],
   "source": [
    "#print top tfidf words.\n",
    "#High tfidf value implies word is more important compared to less tfidf value word.\n",
    "features = tfidf_vect.get_feature_names()\n",
    "len(features)\n",
    "\n",
    "# source: https://buhrmann.github.io/tfidf-analysis.html\n",
    "def top_tfidf_feats(row, features, top_n=15):\n",
    "    ''' Get top n tfidf values in row and return them with their corresponding feature names.'''\n",
    "    topn_ids = np.argsort(row)[::-1][:top_n]\n",
    "    top_feats = [(features[i], row[i]) for i in topn_ids]\n",
    "    df = pd.DataFrame(top_feats)\n",
    "    df.columns = ['feature', 'tfidf']\n",
    "    return df\n",
    "\n",
    "top_tfidf = top_tfidf_feats(final_tfidf[1,:].toarray()[0],features,15)\n",
    "top_tfidf"
   ]
  },
  {
   "cell_type": "code",
   "execution_count": 0,
   "metadata": {
    "colab": {
     "autoexec": {
      "startup": false,
      "wait_interval": 0
     }
    },
    "colab_type": "code",
    "id": "ZMJjzUcBFMh7"
   },
   "outputs": [],
   "source": [
    "#don't forgot to normalize train data\n",
    "X_tfidf = normalize(final_tfidf,axis=0)\n",
    "#convert cv text to tfidf vectors\n",
    "X_cv_tfidf = tfidf_vect.transform(cv['CleanedText'].values)\n",
    "#don't forgot to normalize cv data\n",
    "X_cv_tfidf = normalize(X_cv_tfidf,axis=0)\n",
    "#convert test text to tfidf vectors\n",
    "X_test_tfidf = tfidf_vect.transform(test['CleanedText'].values)\n",
    "#don't forgot to normalize cv data\n",
    "X_test_tfidf = normalize(X_test_tfidf,axis=0)\n"
   ]
  },
  {
   "cell_type": "markdown",
   "metadata": {
    "colab_type": "text",
    "id": "0CReoaXoIage"
   },
   "source": [
    "##  Naive Bayes model"
   ]
  },
  {
   "cell_type": "markdown",
   "metadata": {
    "colab_type": "text",
    "id": "vEiIcwtvIhqA"
   },
   "source": [
    "Generally for most of the text classification problems works fair, So lets try with naive bayes"
   ]
  },
  {
   "cell_type": "code",
   "execution_count": 0,
   "metadata": {
    "colab": {
     "autoexec": {
      "startup": false,
      "wait_interval": 0
     }
    },
    "colab_type": "code",
    "id": "hDlRXirwieSZ"
   },
   "outputs": [],
   "source": [
    "#function to give various scores on test data for a given model.\n",
    "def cal_metrics(predicted,actual):\n",
    "  conf = confusion_matrix(predicted,actual)\n",
    "  TN,FN,FP,TP = conf[0][0],conf[0][1],conf[1][0],conf[1][1]\n",
    "  P = TP+FN\n",
    "  N = TN+FP\n",
    "  TPR = TP/P\n",
    "  FPR = FP/P\n",
    "  FNR = FN/N\n",
    "  TNR = TN/N\n",
    "  precision = TP/(TP+FP)\n",
    "  recall = TP/(TP+FN)\n",
    "  f1_score =  2 * (precision * recall) / (precision + recall)\n",
    "  acc = accuracy_score(predicted,actual)\n",
    "  print('Various metrics of model:')\n",
    "  print('TPR is:',TPR)\n",
    "  print('FPR is:',FPR)\n",
    "  print('TNR is:',TNR)\n",
    "  print('FPR is:',FPR)\n",
    "  print('Precision is:',precision*100)\n",
    "  print('Recall is:',recall*100)\n",
    "  \n",
    "  print('F1 score is:',f1_score*100)\n",
    "  print('Accuracy is:',acc*100,'\\n')\n",
    "  \n",
    "  print('Confusion Matrix is:')\n",
    "  ax = sns.heatmap(confusion_matrix(predicted,actual),annot=True,fmt='g',cbar=None)\n",
    "  plt.show()\n"
   ]
  },
  {
   "cell_type": "code",
   "execution_count": 0,
   "metadata": {
    "colab": {
     "autoexec": {
      "startup": false,
      "wait_interval": 0
     }
    },
    "colab_type": "code",
    "id": "yOPVJ9PVm2Nf"
   },
   "outputs": [],
   "source": [
    "#function to print top 10 positive and negative features\n",
    "def imp_features(vectorizer,clf):\n",
    "  feature_names = vectorizer.get_feature_names()\n",
    "  n = clf.coef_[0].shape[0]\n",
    "  coefs_with_features = sorted(zip(clf.coef_[0], feature_names))\n",
    "  positive = coefs_with_features[:n-11:-1]\n",
    "  negative = coefs_with_features[:10]\n",
    "  positive = [i[1] for i in positive]\n",
    "  negative = [i[1] for i in negative]\n",
    "\n",
    "  top = {'positive':positive,'negative':negative}\n",
    "  print('Top positive and negative features/words')\n",
    "  top = pd.DataFrame(data=top)\n",
    "  return top"
   ]
  },
  {
   "cell_type": "markdown",
   "metadata": {
    "colab_type": "text",
    "id": "TZNDg_JGJN25"
   },
   "source": [
    "###  Naive Bayes for Bag Of Words"
   ]
  },
  {
   "cell_type": "code",
   "execution_count": 256,
   "metadata": {
    "colab": {
     "autoexec": {
      "startup": false,
      "wait_interval": 0
     },
     "base_uri": "https://localhost:8080/",
     "height": 593
    },
    "colab_type": "code",
    "executionInfo": {
     "elapsed": 3015,
     "status": "ok",
     "timestamp": 1531558216458,
     "user": {
      "displayName": "Vishnu vardhan",
      "photoUrl": "//lh3.googleusercontent.com/-aWCh36gokTE/AAAAAAAAAAI/AAAAAAAAEho/sz27AYB6wCw/s50-c-k-no/photo.jpg",
      "userId": "115344496305613697268"
     },
     "user_tz": -330
    },
    "id": "eT3d23ifIgZp",
    "outputId": "2224a1a2-ca3c-49fb-c577-88d1457addba"
   },
   "outputs": [
    {
     "name": "stdout",
     "output_type": "stream",
     "text": [
      "For alpha = 0.000001, cv score is : 0.798375\n",
      "For alpha = 0.000010, cv score is : 0.798375\n",
      "For alpha = 0.000100, cv score is : 0.798750\n",
      "For alpha = 0.001000, cv score is : 0.798562\n",
      "For alpha = 0.010000, cv score is : 0.802875\n",
      "For alpha = 0.100000, cv score is : 0.827875\n",
      "For alpha = 1.000000, cv score is : 0.838625\n",
      "For alpha = 10.000000, cv score is : 0.824063\n",
      "For alpha = 100.000000, cv score is : 0.822937\n",
      "For alpha = 1000.000000, cv score is : 0.822750\n"
     ]
    },
    {
     "data": {
      "image/png": "[encoded data removed]",
      "text/plain": [
       "<matplotlib.figure.Figure at 0x7fa0a766e630>"
      ]
     },
     "metadata": {
      "tags": []
     },
     "output_type": "display_data"
    },
    {
     "name": "stdout",
     "output_type": "stream",
     "text": [
      "\n",
      "The optimal alpha is 1.000000.\n"
     ]
    }
   ],
   "source": [
    "cv_error = []\n",
    "my_alpha = [10**x for x in range(-6,4)]\n",
    "\n",
    "for i in my_alpha:\n",
    "    clf = MultinomialNB(alpha=i,fit_prior=None)\n",
    "    clf.fit(X_bow,y_train)\n",
    "    score = clf.score(X_cv_bow,y_cv)\n",
    "    print('For alpha = %f, cv score is : %f' %(i,score))\n",
    "    cv_error.append(1-score)\n",
    "    \n",
    "#plot errors and cv scores\n",
    "fig, ax = plt.subplots()\n",
    "ax.plot(my_alpha, cv_error,c='g')\n",
    "for i, txt in enumerate(np.round(cv_error,3)):\n",
    "    ax.annotate((my_alpha[i],str(txt)), (my_alpha[i],cv_error[i]))\n",
    "plt.grid()\n",
    "plt.title(\"Cross Validation Error for each alpha\")\n",
    "plt.xlabel(\"Alpha i's\")\n",
    "plt.ylabel(\"Error measure\")\n",
    "plt.show()\n",
    "\n",
    "# changing to misclassification error\n",
    "MSE = [x for x in cv_error]\n",
    "# determining best alpha\n",
    "optimal_alpha = my_alpha[MSE.index(min(MSE))]\n",
    "print('\\nThe optimal alpha is %f.' % optimal_alpha)\n"
   ]
  },
  {
   "cell_type": "code",
   "execution_count": 257,
   "metadata": {
    "colab": {
     "autoexec": {
      "startup": false,
      "wait_interval": 0
     },
     "base_uri": "https://localhost:8080/",
     "height": 538
    },
    "colab_type": "code",
    "executionInfo": {
     "elapsed": 851,
     "status": "ok",
     "timestamp": 1531558217504,
     "user": {
      "displayName": "Vishnu vardhan",
      "photoUrl": "//lh3.googleusercontent.com/-aWCh36gokTE/AAAAAAAAAAI/AAAAAAAAEho/sz27AYB6wCw/s50-c-k-no/photo.jpg",
      "userId": "115344496305613697268"
     },
     "user_tz": -330
    },
    "id": "jfv9o49DhU5a",
    "outputId": "15fe4639-1882-4b65-95f0-80ce688cea1f"
   },
   "outputs": [
    {
     "name": "stdout",
     "output_type": "stream",
     "text": [
      "Various metrics of model:\n",
      "TPR is: 0.9631330835247189\n",
      "FPR is: 0.15502236190015714\n",
      "TNR is: 0.25738274464389116\n",
      "FPR is: 0.15502236190015714\n",
      "Precision is: 86.13588454678126\n",
      "Recall is: 96.31330835247189\n",
      "F1 score is: 90.94073672496934\n",
      "Accuracy is: 84.125 \n",
      "\n",
      "Confusion Matrix is:\n"
     ]
    },
    {
     "data": {
      "image/png": "[encoded data removed]",
      "text/plain": [
       "<matplotlib.figure.Figure at 0x7fa0a8755c18>"
      ]
     },
     "metadata": {
      "tags": []
     },
     "output_type": "display_data"
    }
   ],
   "source": [
    "#train model with alpha.\n",
    "clf = MultinomialNB(alpha=optimal_alpha,fit_prior=None)\n",
    "clf.fit(X_bow,y_train)\n",
    "#predict y labels with model on test data\n",
    "predict = clf.predict(X_test_bow)\n",
    "#Performance of the model on the test data\n",
    "cal_metrics(predict,y_test)\n"
   ]
  },
  {
   "cell_type": "code",
   "execution_count": 258,
   "metadata": {
    "colab": {
     "autoexec": {
      "startup": false,
      "wait_interval": 0
     },
     "base_uri": "https://localhost:8080/",
     "height": 376
    },
    "colab_type": "code",
    "executionInfo": {
     "elapsed": 1025,
     "status": "ok",
     "timestamp": 1531558218659,
     "user": {
      "displayName": "Vishnu vardhan",
      "photoUrl": "//lh3.googleusercontent.com/-aWCh36gokTE/AAAAAAAAAAI/AAAAAAAAEho/sz27AYB6wCw/s50-c-k-no/photo.jpg",
      "userId": "115344496305613697268"
     },
     "user_tz": -330
    },
    "id": "oyWdyhb2mobz",
    "outputId": "0f7689d8-f268-4152-e3bc-1643f4d7a848"
   },
   "outputs": [
    {
     "name": "stdout",
     "output_type": "stream",
     "text": [
      "Top positive and negative features/words\n"
     ]
    },
    {
     "data": {
      "text/html": [
       "<div>\n",
       "<style scoped>\n",
       "    .dataframe tbody tr th:only-of-type {\n",
       "        vertical-align: middle;\n",
       "    }\n",
       "\n",
       "    .dataframe tbody tr th {\n",
       "        vertical-align: top;\n",
       "    }\n",
       "\n",
       "    .dataframe thead th {\n",
       "        text-align: right;\n",
       "    }\n",
       "</style>\n",
       "<table border=\"1\" class=\"dataframe\">\n",
       "  <thead>\n",
       "    <tr style=\"text-align: right;\">\n",
       "      <th></th>\n",
       "      <th>negative</th>\n",
       "      <th>positive</th>\n",
       "    </tr>\n",
       "  </thead>\n",
       "  <tbody>\n",
       "    <tr>\n",
       "      <th>0</th>\n",
       "      <td>aauc</td>\n",
       "      <td>great</td>\n",
       "    </tr>\n",
       "    <tr>\n",
       "      <th>1</th>\n",
       "      <td>abalon</td>\n",
       "      <td>love</td>\n",
       "    </tr>\n",
       "    <tr>\n",
       "      <th>2</th>\n",
       "      <td>abbazabba</td>\n",
       "      <td>good</td>\n",
       "    </tr>\n",
       "    <tr>\n",
       "      <th>3</th>\n",
       "      <td>abhorr</td>\n",
       "      <td>like</td>\n",
       "    </tr>\n",
       "    <tr>\n",
       "      <th>4</th>\n",
       "      <td>abosolut</td>\n",
       "      <td>tast</td>\n",
       "    </tr>\n",
       "    <tr>\n",
       "      <th>5</th>\n",
       "      <td>abou</td>\n",
       "      <td>one</td>\n",
       "    </tr>\n",
       "    <tr>\n",
       "      <th>6</th>\n",
       "      <td>abouit</td>\n",
       "      <td>tri</td>\n",
       "    </tr>\n",
       "    <tr>\n",
       "      <th>7</th>\n",
       "      <td>absoprt</td>\n",
       "      <td>use</td>\n",
       "    </tr>\n",
       "    <tr>\n",
       "      <th>8</th>\n",
       "      <td>accel</td>\n",
       "      <td>flavor</td>\n",
       "    </tr>\n",
       "    <tr>\n",
       "      <th>9</th>\n",
       "      <td>accepet</td>\n",
       "      <td>make</td>\n",
       "    </tr>\n",
       "  </tbody>\n",
       "</table>\n",
       "</div>"
      ],
      "text/plain": [
       "    negative positive\n",
       "0       aauc    great\n",
       "1     abalon     love\n",
       "2  abbazabba     good\n",
       "3     abhorr     like\n",
       "4   abosolut     tast\n",
       "5       abou      one\n",
       "6     abouit      tri\n",
       "7    absoprt      use\n",
       "8      accel   flavor\n",
       "9    accepet     make"
      ]
     },
     "execution_count": 258,
     "metadata": {
      "tags": []
     },
     "output_type": "execute_result"
    }
   ],
   "source": [
    "#Lets get some of the important features/words for both positive and negative classes\n",
    "imp_features(bow,clf)"
   ]
  },
  {
   "cell_type": "markdown",
   "metadata": {
    "colab_type": "text",
    "id": "rhBj5kkGnioa"
   },
   "source": [
    "###  Naive Bayes for tfidf"
   ]
  },
  {
   "cell_type": "code",
   "execution_count": 259,
   "metadata": {
    "colab": {
     "autoexec": {
      "startup": false,
      "wait_interval": 0
     },
     "base_uri": "https://localhost:8080/",
     "height": 593
    },
    "colab_type": "code",
    "executionInfo": {
     "elapsed": 2784,
     "status": "ok",
     "timestamp": 1531558221566,
     "user": {
      "displayName": "Vishnu vardhan",
      "photoUrl": "//lh3.googleusercontent.com/-aWCh36gokTE/AAAAAAAAAAI/AAAAAAAAEho/sz27AYB6wCw/s50-c-k-no/photo.jpg",
      "userId": "115344496305613697268"
     },
     "user_tz": -330
    },
    "id": "TN6MEBJYnior",
    "outputId": "34646690-9132-4768-9c9b-9ac74f7ca26f"
   },
   "outputs": [
    {
     "name": "stdout",
     "output_type": "stream",
     "text": [
      "For alpha = 0.000001, cv score is : 0.802687\n",
      "For alpha = 0.000010, cv score is : 0.802438\n",
      "For alpha = 0.000100, cv score is : 0.802375\n",
      "For alpha = 0.001000, cv score is : 0.802625\n",
      "For alpha = 0.010000, cv score is : 0.805750\n",
      "For alpha = 0.100000, cv score is : 0.828000\n",
      "For alpha = 1.000000, cv score is : 0.841750\n",
      "For alpha = 10.000000, cv score is : 0.824438\n",
      "For alpha = 100.000000, cv score is : 0.822875\n",
      "For alpha = 1000.000000, cv score is : 0.822688\n"
     ]
    },
    {
     "data": {
      "image/png": "[encoded data removed]",
      "text/plain": [
       "<matplotlib.figure.Figure at 0x7fa0ab847c50>"
      ]
     },
     "metadata": {
      "tags": []
     },
     "output_type": "display_data"
    },
    {
     "name": "stdout",
     "output_type": "stream",
     "text": [
      "\n",
      "The optimal alpha is 1.000000.\n"
     ]
    }
   ],
   "source": [
    "cv_error = []\n",
    "my_alpha = [10**x for x in range(-6,4)]\n",
    "\n",
    "for i in my_alpha:\n",
    "    clf = MultinomialNB(alpha=i,fit_prior=None)\n",
    "    clf.fit(X_tfidf,y_train)\n",
    "    score = clf.score(X_cv_tfidf,y_cv)\n",
    "    print('For alpha = %f, cv score is : %f' %(i,score))\n",
    "    cv_error.append(1-score)\n",
    "    \n",
    "#plot errors and cv scores\n",
    "fig, ax = plt.subplots()\n",
    "ax.plot(my_alpha, cv_error,c='g')\n",
    "for i, txt in enumerate(np.round(cv_error,3)):\n",
    "    ax.annotate((my_alpha[i],str(txt)), (my_alpha[i],cv_error[i]))\n",
    "plt.grid()\n",
    "plt.title(\"Cross Validation Error for each alpha\")\n",
    "plt.xlabel(\"Alpha i's\")\n",
    "plt.ylabel(\"Error measure\")\n",
    "plt.show()\n",
    "\n",
    "# changing to misclassification error\n",
    "MSE = [x for x in cv_error]\n",
    "# determining best alpha\n",
    "optimal_alpha = my_alpha[MSE.index(min(MSE))]\n",
    "print('\\nThe optimal alpha is %f.' % optimal_alpha)\n"
   ]
  },
  {
   "cell_type": "code",
   "execution_count": 260,
   "metadata": {
    "colab": {
     "autoexec": {
      "startup": false,
      "wait_interval": 0
     },
     "base_uri": "https://localhost:8080/",
     "height": 538
    },
    "colab_type": "code",
    "executionInfo": {
     "elapsed": 931,
     "status": "ok",
     "timestamp": 1531558222608,
     "user": {
      "displayName": "Vishnu vardhan",
      "photoUrl": "//lh3.googleusercontent.com/-aWCh36gokTE/AAAAAAAAAAI/AAAAAAAAEho/sz27AYB6wCw/s50-c-k-no/photo.jpg",
      "userId": "115344496305613697268"
     },
     "user_tz": -330
    },
    "id": "ov6SOBA-nioz",
    "outputId": "864ddf09-c1a5-4ea8-a88f-3aa60796c56c"
   },
   "outputs": [
    {
     "name": "stdout",
     "output_type": "stream",
     "text": [
      "Various metrics of model:\n",
      "TPR is: 0.9582980780853378\n",
      "FPR is: 0.14873685482896168\n",
      "TNR is: 0.287492762015055\n",
      "FPR is: 0.14873685482896168\n",
      "Precision is: 86.56439373259813\n",
      "Recall is: 95.82980780853379\n",
      "F1 score is: 90.96176462151853\n",
      "Accuracy is: 84.245 \n",
      "\n",
      "Confusion Matrix is:\n"
     ]
    },
    {
     "data": {
      "image/png": "[encoded data removed]",
      "text/plain": [
       "<matplotlib.figure.Figure at 0x7fa0a87550f0>"
      ]
     },
     "metadata": {
      "tags": []
     },
     "output_type": "display_data"
    }
   ],
   "source": [
    "#train model with alpha.\n",
    "clf = MultinomialNB(alpha=optimal_alpha,fit_prior=None)\n",
    "clf.fit(X_tfidf,y_train)\n",
    "#predict y labels with model on test data\n",
    "predict = clf.predict(X_test_tfidf)\n",
    "#Performance of the model on the test data\n",
    "cal_metrics(predict,y_test)\n"
   ]
  },
  {
   "cell_type": "code",
   "execution_count": 261,
   "metadata": {
    "colab": {
     "autoexec": {
      "startup": false,
      "wait_interval": 0
     },
     "base_uri": "https://localhost:8080/",
     "height": 376
    },
    "colab_type": "code",
    "executionInfo": {
     "elapsed": 979,
     "status": "ok",
     "timestamp": 1531558223743,
     "user": {
      "displayName": "Vishnu vardhan",
      "photoUrl": "//lh3.googleusercontent.com/-aWCh36gokTE/AAAAAAAAAAI/AAAAAAAAEho/sz27AYB6wCw/s50-c-k-no/photo.jpg",
      "userId": "115344496305613697268"
     },
     "user_tz": -330
    },
    "id": "ptcPItj7nio4",
    "outputId": "cbc63c61-ad73-42f2-e596-161a62656eca"
   },
   "outputs": [
    {
     "name": "stdout",
     "output_type": "stream",
     "text": [
      "Top positive and negative features/words\n"
     ]
    },
    {
     "data": {
      "text/html": [
       "<div>\n",
       "<style scoped>\n",
       "    .dataframe tbody tr th:only-of-type {\n",
       "        vertical-align: middle;\n",
       "    }\n",
       "\n",
       "    .dataframe tbody tr th {\n",
       "        vertical-align: top;\n",
       "    }\n",
       "\n",
       "    .dataframe thead th {\n",
       "        text-align: right;\n",
       "    }\n",
       "</style>\n",
       "<table border=\"1\" class=\"dataframe\">\n",
       "  <thead>\n",
       "    <tr style=\"text-align: right;\">\n",
       "      <th></th>\n",
       "      <th>negative</th>\n",
       "      <th>positive</th>\n",
       "    </tr>\n",
       "  </thead>\n",
       "  <tbody>\n",
       "    <tr>\n",
       "      <th>0</th>\n",
       "      <td>aauc</td>\n",
       "      <td>love</td>\n",
       "    </tr>\n",
       "    <tr>\n",
       "      <th>1</th>\n",
       "      <td>abalon</td>\n",
       "      <td>great</td>\n",
       "    </tr>\n",
       "    <tr>\n",
       "      <th>2</th>\n",
       "      <td>abbazabba</td>\n",
       "      <td>good</td>\n",
       "    </tr>\n",
       "    <tr>\n",
       "      <th>3</th>\n",
       "      <td>abhorr</td>\n",
       "      <td>like</td>\n",
       "    </tr>\n",
       "    <tr>\n",
       "      <th>4</th>\n",
       "      <td>abosolut</td>\n",
       "      <td>tast</td>\n",
       "    </tr>\n",
       "    <tr>\n",
       "      <th>5</th>\n",
       "      <td>abou</td>\n",
       "      <td>use</td>\n",
       "    </tr>\n",
       "    <tr>\n",
       "      <th>6</th>\n",
       "      <td>abouit</td>\n",
       "      <td>flavor</td>\n",
       "    </tr>\n",
       "    <tr>\n",
       "      <th>7</th>\n",
       "      <td>absoprt</td>\n",
       "      <td>one</td>\n",
       "    </tr>\n",
       "    <tr>\n",
       "      <th>8</th>\n",
       "      <td>accel</td>\n",
       "      <td>tri</td>\n",
       "    </tr>\n",
       "    <tr>\n",
       "      <th>9</th>\n",
       "      <td>accepet</td>\n",
       "      <td>make</td>\n",
       "    </tr>\n",
       "  </tbody>\n",
       "</table>\n",
       "</div>"
      ],
      "text/plain": [
       "    negative positive\n",
       "0       aauc     love\n",
       "1     abalon    great\n",
       "2  abbazabba     good\n",
       "3     abhorr     like\n",
       "4   abosolut     tast\n",
       "5       abou      use\n",
       "6     abouit   flavor\n",
       "7    absoprt      one\n",
       "8      accel      tri\n",
       "9    accepet     make"
      ]
     },
     "execution_count": 261,
     "metadata": {
      "tags": []
     },
     "output_type": "execute_result"
    }
   ],
   "source": [
    "#Lets get some of the important features/words for both positive and negative classes\n",
    "imp_features(tfidf_vect,clf)"
   ]
  },
  {
   "cell_type": "markdown",
   "metadata": {
    "colab_type": "text",
    "id": "CZbD-idEtr8U"
   },
   "source": [
    "##  Logistic Regression"
   ]
  },
  {
   "cell_type": "markdown",
   "metadata": {
    "colab_type": "text",
    "id": "AgmCfSF2twkl"
   },
   "source": [
    "###  Logistic regression for Bag Of Words"
   ]
  },
  {
   "cell_type": "code",
   "execution_count": 262,
   "metadata": {
    "colab": {
     "autoexec": {
      "startup": false,
      "wait_interval": 0
     },
     "base_uri": "https://localhost:8080/",
     "height": 559
    },
    "colab_type": "code",
    "executionInfo": {
     "elapsed": 12780,
     "status": "ok",
     "timestamp": 1531558236680,
     "user": {
      "displayName": "Vishnu vardhan",
      "photoUrl": "//lh3.googleusercontent.com/-aWCh36gokTE/AAAAAAAAAAI/AAAAAAAAEho/sz27AYB6wCw/s50-c-k-no/photo.jpg",
      "userId": "115344496305613697268"
     },
     "user_tz": -330
    },
    "id": "Qu0SEhw-tvsv",
    "outputId": "b5eef2bf-42ea-449d-e266-64dd974a6808"
   },
   "outputs": [
    {
     "name": "stdout",
     "output_type": "stream",
     "text": [
      "For C = 0.000010, cv score is : 0.654312\n",
      "For C = 0.000100, cv score is : 0.781188\n",
      "For C = 0.001000, cv score is : 0.821688\n",
      "For C = 0.010000, cv score is : 0.833375\n",
      "For C = 0.100000, cv score is : 0.864313\n",
      "For C = 1.000000, cv score is : 0.887437\n",
      "For C = 10.000000, cv score is : 0.890250\n",
      "For C = 100.000000, cv score is : 0.886312\n"
     ]
    },
    {
     "data": {
      "image/png": "[encoded data removed]",
      "text/plain": [
       "<matplotlib.figure.Figure at 0x7fa0af183080>"
      ]
     },
     "metadata": {
      "tags": []
     },
     "output_type": "display_data"
    },
    {
     "name": "stdout",
     "output_type": "stream",
     "text": [
      "\n",
      "The optimal C is 10.000000.\n"
     ]
    }
   ],
   "source": [
    "cv_error = []\n",
    "my_c = [0.00001,0.0001,0.001,0.01,0.1,1,10,100]\n",
    "for i in my_c:\n",
    "    clf = LogisticRegression(C=i,class_weight='balanced')\n",
    "    clf.fit(X_bow,y_train)\n",
    "    score = clf.score(X_cv_bow,y_cv)\n",
    "    print('For C = %f, cv score is : %f' %(i,score))\n",
    "    cv_error.append(1-score)\n",
    "    \n",
    "#plot errors and cv scores\n",
    "fig, ax = plt.subplots()\n",
    "ax.plot(my_c, cv_error,c='g')\n",
    "for i, txt in enumerate(np.round(cv_error,3)):\n",
    "    ax.annotate((my_c[i],str(txt)), (my_c[i],cv_error[i]))\n",
    "plt.grid()\n",
    "plt.title(\"Cross Validation Error for each C\")\n",
    "plt.xlabel(\"C 's\")\n",
    "plt.ylabel(\"Error measure\")\n",
    "plt.show()\n",
    "\n",
    "# changing to misclassification error\n",
    "MSE = [x for x in cv_error]\n",
    "# determining best C\n",
    "optimal_c = my_c[MSE.index(min(MSE))]\n",
    "print('\\nThe optimal C is %f.' % optimal_c)\n",
    "    "
   ]
  },
  {
   "cell_type": "code",
   "execution_count": 263,
   "metadata": {
    "colab": {
     "autoexec": {
      "startup": false,
      "wait_interval": 0
     },
     "base_uri": "https://localhost:8080/",
     "height": 538
    },
    "colab_type": "code",
    "executionInfo": {
     "elapsed": 3809,
     "status": "ok",
     "timestamp": 1531558240628,
     "user": {
      "displayName": "Vishnu vardhan",
      "photoUrl": "//lh3.googleusercontent.com/-aWCh36gokTE/AAAAAAAAAAI/AAAAAAAAEho/sz27AYB6wCw/s50-c-k-no/photo.jpg",
      "userId": "115344496305613697268"
     },
     "user_tz": -330
    },
    "id": "-lvKZspuv7TC",
    "outputId": "2f3c0fa7-5ec8-40d3-9a75-85a53521ffa9"
   },
   "outputs": [
    {
     "name": "stdout",
     "output_type": "stream",
     "text": [
      "Various metrics of model:\n",
      "TPR is: 0.9176235948265442\n",
      "FPR is: 0.04526773842620573\n",
      "TNR is: 0.7831499710480602\n",
      "FPR is: 0.04526773842620573\n",
      "Precision is: 95.298769771529\n",
      "Recall is: 91.76235948265442\n",
      "F1 score is: 93.49713652318495\n",
      "Accuracy is: 89.44 \n",
      "\n",
      "Confusion Matrix is:\n"
     ]
    },
    {
     "data": {
      "image/png": "[encoded data removed]",
      "text/plain": [
       "<matplotlib.figure.Figure at 0x7fa09c21abe0>"
      ]
     },
     "metadata": {
      "tags": []
     },
     "output_type": "display_data"
    }
   ],
   "source": [
    "#train model with C.\n",
    "clf = LogisticRegression(C=optimal_c,class_weight='balanced')\n",
    "clf.fit(X_bow,y_train)\n",
    "#predict y labels with model on test data\n",
    "predict = clf.predict(X_test_bow)\n",
    "#Performance of the model on the test data\n",
    "cal_metrics(predict,y_test)\n"
   ]
  },
  {
   "cell_type": "code",
   "execution_count": 264,
   "metadata": {
    "colab": {
     "autoexec": {
      "startup": false,
      "wait_interval": 0
     },
     "base_uri": "https://localhost:8080/",
     "height": 376
    },
    "colab_type": "code",
    "executionInfo": {
     "elapsed": 1918,
     "status": "ok",
     "timestamp": 1531558242657,
     "user": {
      "displayName": "Vishnu vardhan",
      "photoUrl": "//lh3.googleusercontent.com/-aWCh36gokTE/AAAAAAAAAAI/AAAAAAAAEho/sz27AYB6wCw/s50-c-k-no/photo.jpg",
      "userId": "115344496305613697268"
     },
     "user_tz": -330
    },
    "id": "hiWC91xLv7TM",
    "outputId": "d82ad7d4-bcfa-4cc6-cb2c-b45136e2f00c"
   },
   "outputs": [
    {
     "name": "stdout",
     "output_type": "stream",
     "text": [
      "Top positive and negative features/words\n"
     ]
    },
    {
     "data": {
      "text/html": [
       "<div>\n",
       "<style scoped>\n",
       "    .dataframe tbody tr th:only-of-type {\n",
       "        vertical-align: middle;\n",
       "    }\n",
       "\n",
       "    .dataframe tbody tr th {\n",
       "        vertical-align: top;\n",
       "    }\n",
       "\n",
       "    .dataframe thead th {\n",
       "        text-align: right;\n",
       "    }\n",
       "</style>\n",
       "<table border=\"1\" class=\"dataframe\">\n",
       "  <thead>\n",
       "    <tr style=\"text-align: right;\">\n",
       "      <th></th>\n",
       "      <th>negative</th>\n",
       "      <th>positive</th>\n",
       "    </tr>\n",
       "  </thead>\n",
       "  <tbody>\n",
       "    <tr>\n",
       "      <th>0</th>\n",
       "      <td>disappoint</td>\n",
       "      <td>great</td>\n",
       "    </tr>\n",
       "    <tr>\n",
       "      <th>1</th>\n",
       "      <td>worst</td>\n",
       "      <td>love</td>\n",
       "    </tr>\n",
       "    <tr>\n",
       "      <th>2</th>\n",
       "      <td>terribl</td>\n",
       "      <td>best</td>\n",
       "    </tr>\n",
       "    <tr>\n",
       "      <th>3</th>\n",
       "      <td>bad</td>\n",
       "      <td>delici</td>\n",
       "    </tr>\n",
       "    <tr>\n",
       "      <th>4</th>\n",
       "      <td>aw</td>\n",
       "      <td>good</td>\n",
       "    </tr>\n",
       "    <tr>\n",
       "      <th>5</th>\n",
       "      <td>wast</td>\n",
       "      <td>perfect</td>\n",
       "    </tr>\n",
       "    <tr>\n",
       "      <th>6</th>\n",
       "      <td>return</td>\n",
       "      <td>excel</td>\n",
       "    </tr>\n",
       "    <tr>\n",
       "      <th>7</th>\n",
       "      <td>thought</td>\n",
       "      <td>favorit</td>\n",
       "    </tr>\n",
       "    <tr>\n",
       "      <th>8</th>\n",
       "      <td>horribl</td>\n",
       "      <td>find</td>\n",
       "    </tr>\n",
       "    <tr>\n",
       "      <th>9</th>\n",
       "      <td>threw</td>\n",
       "      <td>nice</td>\n",
       "    </tr>\n",
       "  </tbody>\n",
       "</table>\n",
       "</div>"
      ],
      "text/plain": [
       "     negative positive\n",
       "0  disappoint    great\n",
       "1       worst     love\n",
       "2     terribl     best\n",
       "3         bad   delici\n",
       "4          aw     good\n",
       "5        wast  perfect\n",
       "6      return    excel\n",
       "7     thought  favorit\n",
       "8     horribl     find\n",
       "9       threw     nice"
      ]
     },
     "execution_count": 264,
     "metadata": {
      "tags": []
     },
     "output_type": "execute_result"
    }
   ],
   "source": [
    "#Lets get some of the important features/words for both positive and negative classes\n",
    "imp_features(bow,clf)"
   ]
  },
  {
   "cell_type": "markdown",
   "metadata": {
    "colab_type": "text",
    "id": "hcyTJl3EwXl1"
   },
   "source": [
    "###  Logistic regression for Tfidf"
   ]
  },
  {
   "cell_type": "code",
   "execution_count": 265,
   "metadata": {
    "colab": {
     "autoexec": {
      "startup": false,
      "wait_interval": 0
     },
     "base_uri": "https://localhost:8080/",
     "height": 559
    },
    "colab_type": "code",
    "executionInfo": {
     "elapsed": 12303,
     "status": "ok",
     "timestamp": 1531558255167,
     "user": {
      "displayName": "Vishnu vardhan",
      "photoUrl": "//lh3.googleusercontent.com/-aWCh36gokTE/AAAAAAAAAAI/AAAAAAAAEho/sz27AYB6wCw/s50-c-k-no/photo.jpg",
      "userId": "115344496305613697268"
     },
     "user_tz": -330
    },
    "id": "1cFURBtpwXl2",
    "outputId": "aae61e28-fa3f-4089-b23c-7ac4d18754b1"
   },
   "outputs": [
    {
     "name": "stdout",
     "output_type": "stream",
     "text": [
      "For C = 0.000010, cv score is : 0.721437\n",
      "For C = 0.000100, cv score is : 0.797438\n",
      "For C = 0.001000, cv score is : 0.833688\n",
      "For C = 0.010000, cv score is : 0.838938\n",
      "For C = 0.100000, cv score is : 0.844688\n",
      "For C = 1.000000, cv score is : 0.853938\n",
      "For C = 10.000000, cv score is : 0.868313\n",
      "For C = 100.000000, cv score is : 0.869000\n"
     ]
    },
    {
     "data": {
      "image/png": "[encoded data removed]",
      "text/plain": [
       "<matplotlib.figure.Figure at 0x7fa0b05534e0>"
      ]
     },
     "metadata": {
      "tags": []
     },
     "output_type": "display_data"
    },
    {
     "name": "stdout",
     "output_type": "stream",
     "text": [
      "\n",
      "The optimal C is 100.000000.\n"
     ]
    }
   ],
   "source": [
    "cv_error = []\n",
    "my_c = [0.00001,0.0001,0.001,0.01,0.1,1,10,100]\n",
    "for i in my_c:\n",
    "    clf = LogisticRegression(C=i,class_weight='balanced')\n",
    "    clf.fit(X_tfidf,y_train)\n",
    "    score = clf.score(X_cv_tfidf,y_cv)\n",
    "    print('For C = %f, cv score is : %f' %(i,score))\n",
    "    cv_error.append(1-score)\n",
    "    \n",
    "#plot errors and cv scores\n",
    "fig, ax = plt.subplots()\n",
    "ax.plot(my_c, cv_error,c='g')\n",
    "for i, txt in enumerate(np.round(cv_error,3)):\n",
    "    ax.annotate((my_c[i],str(txt)), (my_c[i],cv_error[i]))\n",
    "plt.grid()\n",
    "plt.title(\"Cross Validation Error for each C\")\n",
    "plt.xlabel(\"C 's\")\n",
    "plt.ylabel(\"Error measure\")\n",
    "plt.show()\n",
    "\n",
    "# changing to misclassification error\n",
    "MSE = [x for x in cv_error]\n",
    "# determining best C\n",
    "optimal_c = my_c[MSE.index(min(MSE))]\n",
    "print('\\nThe optimal C is %f.' % optimal_c)\n",
    "    "
   ]
  },
  {
   "cell_type": "code",
   "execution_count": 266,
   "metadata": {
    "colab": {
     "autoexec": {
      "startup": false,
      "wait_interval": 0
     },
     "base_uri": "https://localhost:8080/",
     "height": 538
    },
    "colab_type": "code",
    "executionInfo": {
     "elapsed": 5644,
     "status": "ok",
     "timestamp": 1531558260919,
     "user": {
      "displayName": "Vishnu vardhan",
      "photoUrl": "//lh3.googleusercontent.com/-aWCh36gokTE/AAAAAAAAAAI/AAAAAAAAEho/sz27AYB6wCw/s50-c-k-no/photo.jpg",
      "userId": "115344496305613697268"
     },
     "user_tz": -330
    },
    "id": "mG_SmsQlwXl8",
    "outputId": "b579454c-774c-496f-85be-af4fcd296ecd"
   },
   "outputs": [
    {
     "name": "stdout",
     "output_type": "stream",
     "text": [
      "Various metrics of model:\n",
      "TPR is: 0.8949595068294451\n",
      "FPR is: 0.05264112172126194\n",
      "TNR is: 0.7478286045165026\n",
      "FPR is: 0.05264112172126194\n",
      "Precision is: 94.4447987754321\n",
      "Recall is: 89.49595068294451\n",
      "F1 score is: 91.90380139643133\n",
      "Accuracy is: 86.955 \n",
      "\n",
      "Confusion Matrix is:\n"
     ]
    },
    {
     "data": {
      "image/png": "[encoded data removed]",
      "text/plain": [
       "<matplotlib.figure.Figure at 0x7fa0ac245668>"
      ]
     },
     "metadata": {
      "tags": []
     },
     "output_type": "display_data"
    }
   ],
   "source": [
    "#train model with C.\n",
    "clf = LogisticRegression(C=optimal_c,class_weight='balanced')\n",
    "clf.fit(X_tfidf,y_train)\n",
    "#predict y labels with model on test data\n",
    "predict = clf.predict(X_test_tfidf)\n",
    "#Performance of the model on the test data\n",
    "cal_metrics(predict,y_test)\n"
   ]
  },
  {
   "cell_type": "code",
   "execution_count": 267,
   "metadata": {
    "colab": {
     "autoexec": {
      "startup": false,
      "wait_interval": 0
     },
     "base_uri": "https://localhost:8080/",
     "height": 376
    },
    "colab_type": "code",
    "executionInfo": {
     "elapsed": 1282,
     "status": "ok",
     "timestamp": 1531558262242,
     "user": {
      "displayName": "Vishnu vardhan",
      "photoUrl": "//lh3.googleusercontent.com/-aWCh36gokTE/AAAAAAAAAAI/AAAAAAAAEho/sz27AYB6wCw/s50-c-k-no/photo.jpg",
      "userId": "115344496305613697268"
     },
     "user_tz": -330
    },
    "id": "f7xMsyzzwXl_",
    "outputId": "9da9fb00-d5a4-4cd9-b3db-229341da9233"
   },
   "outputs": [
    {
     "name": "stdout",
     "output_type": "stream",
     "text": [
      "Top positive and negative features/words\n"
     ]
    },
    {
     "data": {
      "text/html": [
       "<div>\n",
       "<style scoped>\n",
       "    .dataframe tbody tr th:only-of-type {\n",
       "        vertical-align: middle;\n",
       "    }\n",
       "\n",
       "    .dataframe tbody tr th {\n",
       "        vertical-align: top;\n",
       "    }\n",
       "\n",
       "    .dataframe thead th {\n",
       "        text-align: right;\n",
       "    }\n",
       "</style>\n",
       "<table border=\"1\" class=\"dataframe\">\n",
       "  <thead>\n",
       "    <tr style=\"text-align: right;\">\n",
       "      <th></th>\n",
       "      <th>negative</th>\n",
       "      <th>positive</th>\n",
       "    </tr>\n",
       "  </thead>\n",
       "  <tbody>\n",
       "    <tr>\n",
       "      <th>0</th>\n",
       "      <td>disappoint</td>\n",
       "      <td>great</td>\n",
       "    </tr>\n",
       "    <tr>\n",
       "      <th>1</th>\n",
       "      <td>worst</td>\n",
       "      <td>love</td>\n",
       "    </tr>\n",
       "    <tr>\n",
       "      <th>2</th>\n",
       "      <td>return</td>\n",
       "      <td>best</td>\n",
       "    </tr>\n",
       "    <tr>\n",
       "      <th>3</th>\n",
       "      <td>terribl</td>\n",
       "      <td>delici</td>\n",
       "    </tr>\n",
       "    <tr>\n",
       "      <th>4</th>\n",
       "      <td>threw</td>\n",
       "      <td>good</td>\n",
       "    </tr>\n",
       "    <tr>\n",
       "      <th>5</th>\n",
       "      <td>tast</td>\n",
       "      <td>perfect</td>\n",
       "    </tr>\n",
       "    <tr>\n",
       "      <th>6</th>\n",
       "      <td>horribl</td>\n",
       "      <td>excel</td>\n",
       "    </tr>\n",
       "    <tr>\n",
       "      <th>7</th>\n",
       "      <td>bland</td>\n",
       "      <td>favorit</td>\n",
       "    </tr>\n",
       "    <tr>\n",
       "      <th>8</th>\n",
       "      <td>aw</td>\n",
       "      <td>nice</td>\n",
       "    </tr>\n",
       "    <tr>\n",
       "      <th>9</th>\n",
       "      <td>wast</td>\n",
       "      <td>find</td>\n",
       "    </tr>\n",
       "  </tbody>\n",
       "</table>\n",
       "</div>"
      ],
      "text/plain": [
       "     negative positive\n",
       "0  disappoint    great\n",
       "1       worst     love\n",
       "2      return     best\n",
       "3     terribl   delici\n",
       "4       threw     good\n",
       "5        tast  perfect\n",
       "6     horribl    excel\n",
       "7       bland  favorit\n",
       "8          aw     nice\n",
       "9        wast     find"
      ]
     },
     "execution_count": 267,
     "metadata": {
      "tags": []
     },
     "output_type": "execute_result"
    }
   ],
   "source": [
    "#Lets get some of the important features/words for both positive and negative classes\n",
    "imp_features(tfidf_vect,clf)"
   ]
  },
  {
   "cell_type": "markdown",
   "metadata": {
    "colab_type": "text",
    "id": "NAJ7a6tz81mV"
   },
   "source": [
    "# Conclusion"
   ]
  },
  {
   "cell_type": "markdown",
   "metadata": {
    "colab_type": "text",
    "id": "E5PSalAv88WE"
   },
   "source": [
    "Given data is highly imbalance data with 84% positive and 16% negative score. Taking accuracy as a metric to measure perfomance of the model is a wrong idea because even a dumb model can have an accuracy of 84%. So we take f1 score, precision score and recall score. And also plot connfusion matrix to clearly understand about performance of model. "
   ]
  },
  {
   "cell_type": "markdown",
   "metadata": {
    "colab_type": "text",
    "id": "r1BgIovg9wkE"
   },
   "source": [
    "1. From all above models we can clearly understand that Logistic regression with Bag of words performs better with f1-score 93%.\n",
    "2. If we observe the feature importance (positive and negative words) they are more reasonable and good.\n",
    "3. From the confusion matrix we can conclude that more positive lables are mis classified as negative, So False Negative value is high compared to False Positive."
   ]
  }
 ],
 "metadata": {
  "accelerator": "GPU",
  "colab": {
   "collapsed_sections": [],
   "default_view": {},
   "name": "Amazon fine food reviews.ipynb",
   "provenance": [],
   "toc_visible": true,
   "version": "0.3.2",
   "views": {}
  },
  "kernelspec": {
   "display_name": "Python 3",
   "language": "python",
   "name": "python3"
  },
  "language_info": {
   "codemirror_mode": {
    "name": "ipython",
    "version": 3
   },
   "file_extension": ".py",
   "mimetype": "text/x-python",
   "name": "python",
   "nbconvert_exporter": "python",
   "pygments_lexer": "ipython3",
   "version": "3.6.4"
  },
  "toc": {
   "base_numbering": 1,
   "nav_menu": {},
   "number_sections": true,
   "sideBar": true,
   "skip_h1_title": false,
   "title_cell": "Table of Contents",
   "title_sidebar": "Contents",
   "toc_cell": true,
   "toc_position": {
    "height": "443px",
    "left": "47px",
    "top": "180px",
    "width": "272px"
   },
   "toc_section_display": true,
   "toc_window_display": true
  }
 },
 "nbformat": 4,
 "nbformat_minor": 1
}
